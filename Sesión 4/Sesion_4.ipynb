{
 "cells": [
  {
   "attachments": {},
   "cell_type": "markdown",
   "metadata": {},
   "source": [
    "# Día 4 DIAGRAMAS E IMÁGENES (づ｡◕‿‿◕｡)づ"
   ]
  },
  {
   "cell_type": "markdown",
   "metadata": {},
   "source": [
    "El manual de la librería MATPLOTLIB se encuentra en https://matplotlib.org/users/image_tutorial.html\n",
    "\n",
    "El manual de la librería NUMPY se encuentra en https://numpy.org/doc/stable/user/index.html"
   ]
  },
  {
   "cell_type": "markdown",
   "metadata": {},
   "source": [
    "## Numpy y matplotlib"
   ]
  },
  {
   "cell_type": "markdown",
   "metadata": {},
   "source": [
    "### Importando librerías"
   ]
  },
  {
   "cell_type": "markdown",
   "metadata": {},
   "source": [
    "Numpy es una librería que permite un manejo intuitivo de las variables tipo lista. Para acceder a estas funciones es necesario definir las listas como un **arreglo** de numpy. Esta librería también ofrece opciones para definir estas estructuras de tipo arreglo. "
   ]
  },
  {
   "cell_type": "markdown",
   "metadata": {},
   "source": [
    "Recordemos que siempre que vayamos a usar una librería nueva, se debe importar mediante los comandos \"import *librería*\"."
   ]
  },
  {
   "cell_type": "code",
   "execution_count": 7,
   "metadata": {},
   "outputs": [],
   "source": [
    "import numpy"
   ]
  },
  {
   "cell_type": "markdown",
   "metadata": {},
   "source": [
    "Esto hará que debamos llamar a las funciones usando la sintaxis librería.funcion(variables, a , usar)"
   ]
  },
  {
   "cell_type": "code",
   "execution_count": null,
   "metadata": {},
   "outputs": [],
   "source": [
    "numpy.power(2,3)"
   ]
  },
  {
   "cell_type": "code",
   "execution_count": null,
   "metadata": {},
   "outputs": [],
   "source": [
    "print(numpy.power(2,3))"
   ]
  },
  {
   "cell_type": "markdown",
   "metadata": {},
   "source": [
    "Este tipo de llamado a las funciones puede parecer breve, pero existen librerías como matplotlib que tienen una mayor cantidad de caracteres en su nombre y que pueden conllevar a un mayor desgaste. Debido a esto existe una sintaxis que permite asignar **apodos** a las librerías que se están importando, esta es \"import *librería* as *apodo*\""
   ]
  },
  {
   "cell_type": "code",
   "execution_count": 8,
   "metadata": {},
   "outputs": [],
   "source": [
    "import numpy as np"
   ]
  },
  {
   "cell_type": "markdown",
   "metadata": {},
   "source": [
    "El uso será similar al anterior, pero ahora para llamar las funciones de la librería no se necesita colocar su nombre completo, sino su apodo \"apodo.funcion(variables, a, usar)\""
   ]
  },
  {
   "cell_type": "code",
   "execution_count": null,
   "metadata": {},
   "outputs": [],
   "source": [
    "np.power(2,3)"
   ]
  },
  {
   "cell_type": "code",
   "execution_count": null,
   "metadata": {},
   "outputs": [],
   "source": [
    "print(np.power(2,3))"
   ]
  },
  {
   "cell_type": "markdown",
   "metadata": {},
   "source": [
    "En estos dos casos se ha llamado toda la librería. Esto quiere decir que se ha podido accesar a todas las funciones de la librería, incluyendo aquellas que **no se van a usar**, lo cual a la larga puede cargar innecesariamente la memoria. Dado esto, existe una forma de llamar específicamente funciones usando \"from *librería* import *función*\". "
   ]
  },
  {
   "cell_type": "code",
   "execution_count": 12,
   "metadata": {},
   "outputs": [],
   "source": [
    "from numpy import power"
   ]
  },
  {
   "cell_type": "code",
   "execution_count": null,
   "metadata": {},
   "outputs": [],
   "source": [
    "power(2,3)"
   ]
  },
  {
   "cell_type": "markdown",
   "metadata": {},
   "source": [
    "Finalmente, lo que hemos aprendido se puede combinar para colocar un apodo a esta función que se ha importado."
   ]
  },
  {
   "cell_type": "code",
   "execution_count": 14,
   "metadata": {},
   "outputs": [],
   "source": [
    "from numpy import power as pw"
   ]
  },
  {
   "cell_type": "code",
   "execution_count": null,
   "metadata": {},
   "outputs": [],
   "source": [
    "pw(2,3)"
   ]
  },
  {
   "cell_type": "markdown",
   "metadata": {},
   "source": [
    "### ¿Para qué usar numpy?"
   ]
  },
  {
   "cell_type": "markdown",
   "metadata": {},
   "source": [
    "Ya hemos dicho que esta librería tiene en sus principales características un manejo intuitivo de las variables de tipo lista, las cuales se llaman **arreglos** en numpy. Antes de entrar en esto, vamos a definir una lista que contenga tres datos."
   ]
  },
  {
   "cell_type": "code",
   "execution_count": 16,
   "metadata": {},
   "outputs": [],
   "source": [
    "import numpy as np\n",
    "\n",
    "lista_f = [1, 2, 3]"
   ]
  },
  {
   "cell_type": "markdown",
   "metadata": {},
   "source": [
    "Esto es lo que se conoce como una **fila**, pues permite arreglar los datos uno tras otro de manera horizontal, como cuando uno va al banco."
   ]
  },
  {
   "cell_type": "code",
   "execution_count": null,
   "metadata": {},
   "outputs": [],
   "source": [
    "lista_f"
   ]
  },
  {
   "cell_type": "markdown",
   "metadata": {},
   "source": [
    "Por curiosidad, miremos qué pasa al multiplicar esta lista por el número 2."
   ]
  },
  {
   "cell_type": "code",
   "execution_count": null,
   "metadata": {},
   "outputs": [],
   "source": [
    "lista_f*2"
   ]
  },
  {
   "cell_type": "markdown",
   "metadata": {},
   "source": [
    "Se puede convertir una lista de python en un arreglo de numpy mediante el comando \"numpy.array(lista)\". Acá usaremos la sintaxis con el apodo np."
   ]
  },
  {
   "cell_type": "code",
   "execution_count": 19,
   "metadata": {},
   "outputs": [],
   "source": [
    "lista_f = np.array(lista_f)"
   ]
  },
  {
   "cell_type": "markdown",
   "metadata": {},
   "source": [
    "Ahora estos datos pueden procesarse de manera sencilla indicando operaciones con números enteros, lo que aplicará la operación a todos los números del arreglo."
   ]
  },
  {
   "cell_type": "code",
   "execution_count": null,
   "metadata": {},
   "outputs": [],
   "source": [
    "lista_f + 2"
   ]
  },
  {
   "cell_type": "code",
   "execution_count": null,
   "metadata": {},
   "outputs": [],
   "source": [
    "lista_f * 2"
   ]
  },
  {
   "cell_type": "code",
   "execution_count": null,
   "metadata": {},
   "outputs": [],
   "source": [
    "tarea = np.array([1, 10, 20, 30, 40])\n",
    "longitud = 0.0028/tarea\n",
    "longitud"
   ]
  },
  {
   "cell_type": "markdown",
   "metadata": {},
   "source": [
    "Otra manera de estructurar los datos es a partir de la definición de columnas, que permite arreglar los datos uno encima de otro, como los pilares de las construcciones permiten colocar un piso encima de otro. Esto se logra definiendo inicialmente una lista de listas, así.\n",
    "\n",
    "[ [piso 1] , [piso 2] , [etc.] ]"
   ]
  },
  {
   "cell_type": "code",
   "execution_count": 26,
   "metadata": {},
   "outputs": [],
   "source": [
    "lista_c = [[1],[2],[3]]\n",
    "lista_f = [1, 2, 3]"
   ]
  },
  {
   "cell_type": "code",
   "execution_count": null,
   "metadata": {},
   "outputs": [],
   "source": [
    "print(lista_c)"
   ]
  },
  {
   "cell_type": "markdown",
   "metadata": {},
   "source": [
    "Ya tenemos una lista de listas. Finalmente, tenemos que pasar este tipo de arreglo a otra estructura que nos permite visibilizar los datos como filas y como columna, el cual recibe el nombre de matriz o matrix (sí, como la película)."
   ]
  },
  {
   "cell_type": "code",
   "execution_count": null,
   "metadata": {},
   "outputs": [],
   "source": [
    "a = [1, 2, 3]\n",
    "b = [2, 3, 4]\n",
    "c = [3, 4, 5]\n",
    "\n",
    "lista_c = [a,b,c]\n",
    "\n",
    "print(f'''Esto es una fila \n",
    "{np.matrix(lista_f)}\n",
    "\n",
    "Y esto es una columna\n",
    "{np.matrix(lista_c)}''')"
   ]
  },
  {
   "cell_type": "markdown",
   "metadata": {},
   "source": [
    "Dejemos este tipo de arreglo en el tintero y vamos a otro con el que podamos enlazar también a la libería *matplotlib*. El comando *linspace(int_inicial, int_final, pasos)* es muy similar al *range()* que ya conocemos y se usa para generar una lista que nos de números desde un **entero inicial** hasta un **entero final** espaciados por **pasos** números."
   ]
  },
  {
   "cell_type": "code",
   "execution_count": 29,
   "metadata": {},
   "outputs": [],
   "source": [
    "x = np.linspace(-3,3,21)"
   ]
  },
  {
   "cell_type": "code",
   "execution_count": null,
   "metadata": {},
   "outputs": [],
   "source": [
    "d = np.linspace(1,10,20)\n",
    "d"
   ]
  },
  {
   "cell_type": "code",
   "execution_count": null,
   "metadata": {},
   "outputs": [],
   "source": [
    "x"
   ]
  },
  {
   "cell_type": "code",
   "execution_count": null,
   "metadata": {},
   "outputs": [],
   "source": [
    "type(x)"
   ]
  },
  {
   "cell_type": "markdown",
   "metadata": {},
   "source": [
    "También podemos acceder a datos específicos con la sintaxis \"arreglo[índice del dato]\"."
   ]
  },
  {
   "cell_type": "code",
   "execution_count": null,
   "metadata": {},
   "outputs": [],
   "source": [
    "x[1]"
   ]
  },
  {
   "cell_type": "markdown",
   "metadata": {},
   "source": [
    "Con todo lo visto, se puede definir una función que opere los datos de un arreglo de numpy para hallar el valor correspondiente a los de una recta según la ecuación.\n",
    "\n",
    "![Recta](images/images.png)"
   ]
  },
  {
   "cell_type": "code",
   "execution_count": 33,
   "metadata": {},
   "outputs": [],
   "source": [
    "def recta(x, m, b):\n",
    "    \n",
    "    y = m * x + b\n",
    "    \n",
    "    return y"
   ]
  },
  {
   "cell_type": "code",
   "execution_count": null,
   "metadata": {},
   "outputs": [],
   "source": [
    "y = recta(x, 1, 0) \n",
    "y"
   ]
  },
  {
   "cell_type": "markdown",
   "metadata": {},
   "source": [
    "### ¿Para qué usar matplotlib?"
   ]
  },
  {
   "cell_type": "markdown",
   "metadata": {},
   "source": [
    "Hasta ahora, hemos hecho lo que la teoría nos dice, pero, ¿cómo podemos generar una imagen de esta recta en python?"
   ]
  },
  {
   "cell_type": "markdown",
   "metadata": {},
   "source": [
    "Matplotlib es una librería que permite hacer distintos tipos de gráficos y manipular algunas de las características que pueden llegar a ser necesarias como títulos, etiquetas, tamaños, etc. Dentro de ella, hay una herramienta llamada pyplot que contiene funciones que permiten hacer las modificaciones mencionadas a los gráficos generados."
   ]
  },
  {
   "cell_type": "code",
   "execution_count": 35,
   "metadata": {},
   "outputs": [],
   "source": [
    "import matplotlib.pyplot as plt"
   ]
  },
  {
   "cell_type": "markdown",
   "metadata": {},
   "source": [
    "En la línea anterior estamos llamando la herramienta pyplot con el apodo \"plt\". Usando el comando plt.plot(datos1, datos2) podemos hacer nuestra gráfica."
   ]
  },
  {
   "cell_type": "code",
   "execution_count": null,
   "metadata": {},
   "outputs": [],
   "source": [
    "plt.plot(x,y)"
   ]
  },
  {
   "cell_type": "markdown",
   "metadata": {},
   "source": [
    "Existe un comando que permite modificar la proporción de la apariencia, el cual es plt.axis('proporción')."
   ]
  },
  {
   "cell_type": "code",
   "execution_count": null,
   "metadata": {},
   "outputs": [],
   "source": [
    "plt.plot(x,y)\n",
    "plt.axis('equal')"
   ]
  },
  {
   "cell_type": "markdown",
   "metadata": {},
   "source": [
    "Si plt.pyplot() nos grafica una línea que una los puntos que se han dado, con plt.scatter(datos1,datos2) podemos graficar solamente estos puntos ."
   ]
  },
  {
   "cell_type": "code",
   "execution_count": null,
   "metadata": {},
   "outputs": [],
   "source": [
    "plt.scatter(x,y)\n",
    "plt.axis('equal')"
   ]
  },
  {
   "cell_type": "markdown",
   "metadata": {},
   "source": [
    "De esta manera es más evidente que lo que estamos graficando son los arreglos de x y y, donde x lo definimos y y lo pasamos mediante la función recta."
   ]
  },
  {
   "cell_type": "code",
   "execution_count": null,
   "metadata": {},
   "outputs": [],
   "source": [
    "print(x)\n",
    "print(y)"
   ]
  },
  {
   "cell_type": "markdown",
   "metadata": {},
   "source": [
    "Dado que una gráfica es más útil en la medida que mayor información brinda, vamos a usar tres comandos adicionales: plt.title(\"título\"), plt.ejelabel(\"nombre del arreglo del eje\") y plt.legend(), que recibe la etiqueta que se define dentro del comando: \n",
    "\n",
    "plt.plot(... label = \"etiqueta_1 = valor_1, etiqueta_2 = valor_2\")."
   ]
  },
  {
   "cell_type": "code",
   "execution_count": null,
   "metadata": {},
   "outputs": [],
   "source": [
    "plt.title(\"Una bonita recta\") #Agrega un título a la gráfica\n",
    "\n",
    "plt.xlabel(\"eje x\") #Agrega un nombre al eje x\n",
    "plt.ylabel(\"eje y\") #Agrega un nombre al eje y\n",
    "\n",
    "plt.plot( x, recta(x,1,0), label= \"m=1, b=0\") #Tiene adicional la variable label\n",
    "\n",
    "plt.legend() #Activa el panel con las legendas que describen con qué color se representa lo escrito en \"label\"\n",
    "plt.axis('equal')"
   ]
  },
  {
   "cell_type": "markdown",
   "metadata": {},
   "source": [
    "A través de la función 'recta' que se definió previamente, podemos generar más de una curva en el gráfico escribiendo varias veces el comando plt.plot(), una por cada curva. En este aso, dejaremos la pendiente igual para que veamos qué efecto tiene."
   ]
  },
  {
   "cell_type": "code",
   "execution_count": null,
   "metadata": {},
   "outputs": [],
   "source": [
    "fig = plt.figure(figsize=[7,7])\n",
    "\n",
    "plt.title(\"Varias rectas muy bonitas\")\n",
    "\n",
    "plt.xlabel(\"eje x\")\n",
    "plt.ylabel(\"eje y\");\n",
    "\n",
    "plt.plot( x, recta(x,1,0), label= \"m=1, b=0\")\n",
    "plt.plot( x, recta(x,1,2), label= \"m=1, b=2\")\n",
    "plt.plot( x, recta(x,1,4), label= \"m=1, b=4\")\n",
    "\n",
    "plt.legend()"
   ]
  },
  {
   "cell_type": "markdown",
   "metadata": {},
   "source": [
    "Si ahora variamos la pendiente y se mantiene el punto de corte con el eje y."
   ]
  },
  {
   "cell_type": "code",
   "execution_count": null,
   "metadata": {},
   "outputs": [],
   "source": [
    "plt.title(\"Varias bonitas rectas\")\n",
    "\n",
    "plt.xlabel(\"eje x\")\n",
    "plt.ylabel(\"eje y\");\n",
    "\n",
    "plt.plot( x, recta(x,1,0), label= \"m=1, b=0\")\n",
    "plt.plot( x, recta(x,0,0), label= \"m=0, b=0\") # Se grafica adicionalmente otra recta en el mismo gráfico con m y b distintos.\n",
    "plt.plot( x, recta(x,-2,0), label= \"m=-2, b=0\") # Se grafica adicionalmente otra recta en el mismo gráfico con m y b distintos.\n",
    "\n",
    "plt.legend()\n",
    "plt.axis('equal')"
   ]
  },
  {
   "cell_type": "markdown",
   "metadata": {},
   "source": [
    "Usando el comando plt.ejelim(límite_inferior, límite_superior) se puede definir el rango en el que se mostrarán los ejes."
   ]
  },
  {
   "cell_type": "code",
   "execution_count": null,
   "metadata": {},
   "outputs": [],
   "source": [
    "fig = plt.figure(figsize=[7,7])\n",
    "plt.xlim(-3,3) #Dato inicial y final en x\n",
    "plt.ylim(-3,3) #Dato inicial y final en y\n",
    "\n",
    "plt.title(\"Varias rectas muy bonitas\")\n",
    "\n",
    "plt.xlabel(\"eje x\")\n",
    "plt.ylabel(\"eje y\");\n",
    "\n",
    "plt.plot( x, recta(x,1,0), label= \"m=1, b=0\")\n",
    "plt.plot( x, recta(x,0,0), label= \"m=0, b=0\")\n",
    "plt.plot( x, recta(x,-2,0), label= \"m=-2, b=0\")\n",
    "\n",
    "plt.legend()\n",
    "\n",
    "plt.savefig('pregunta')"
   ]
  },
  {
   "cell_type": "markdown",
   "metadata": {},
   "source": [
    "Continuando con el objetivo de poder describir expresiones matemáticas a partir de funciones, lo cual nos puede llevar a escribir expresiones físicas de la misma manera, vamos a definir una función que tenga como entrada un arreglo de numpy con los datos del eje x, así como los parámetros a, b y c de la expresión cuadrática.\n",
    "\n",
    "\n",
    "<img src=\"images/cuadratica.jpg\" width=\"400\" />"
   ]
  },
  {
   "cell_type": "code",
   "execution_count": 61,
   "metadata": {},
   "outputs": [],
   "source": [
    "def cuadratica(x,a,b,c):\n",
    "    #Esta es una función que toma un arreglo de numpy x y define tres partes:\n",
    "    #Eleva los valores de x al cuadrado y los multiplica por le dato a indicado por el usuario\n",
    "    #Multiplica los valores de x por el dato b indicado por el usuario\n",
    "    #Toma el dato c indicado por el usuario y suma las tres contribuciones\n",
    "    #Retorna el arreglo de numpy y resultante.\n",
    "    # y[0] = 18 + 3 - 1 en el caso de x[0] que corresponde a -3\n",
    "\n",
    "    y = a*x**2 + b*x + c\n",
    "    return y"
   ]
  },
  {
   "cell_type": "markdown",
   "metadata": {},
   "source": [
    "Definamos una curva a partir de la función que definimos."
   ]
  },
  {
   "cell_type": "code",
   "execution_count": 66,
   "metadata": {},
   "outputs": [],
   "source": [
    "y = cuadratica(x,2,-1,-1)"
   ]
  },
  {
   "cell_type": "code",
   "execution_count": null,
   "metadata": {},
   "outputs": [],
   "source": [
    "fig = plt.figure(figsize=[7,7])\n",
    "plt.xlim(-3,3)\n",
    "#plt.ylim(-3,3)\n",
    "\n",
    "\n",
    "plt.title(\"Una función muy cuadrática\")\n",
    "\n",
    "plt.xlabel(\"eje x\")\n",
    "plt.ylabel(\"eje y\");\n",
    "\n",
    "plt.plot( x, y, label= \"$2 x^2 - x - 1$\")\n",
    "\n",
    "plt.legend()"
   ]
  },
  {
   "cell_type": "code",
   "execution_count": null,
   "metadata": {},
   "outputs": [],
   "source": [
    "fig = plt.figure(figsize=[7,7])\n",
    "plt.xlim(-3,3)\n",
    "plt.ylim(-3,3)\n",
    "\n",
    "\n",
    "plt.title(\"Dos curvas muy cuadráticas\")\n",
    "\n",
    "plt.xlabel(\"eje x\")\n",
    "plt.ylabel(\"eje y\");\n",
    "\n",
    "plt.plot( x, cuadratica(x,2,-1,-1), label= \"$2 x^2 - x - 1$\")\n",
    "plt.plot( x, cuadratica(x,-2,+1,+2), label= \"$-2 x^2 + x + 2$\")\n",
    "\n",
    "\n",
    "plt.legend()"
   ]
  },
  {
   "cell_type": "markdown",
   "metadata": {},
   "source": [
    "## Imágenes"
   ]
  },
  {
   "cell_type": "markdown",
   "metadata": {},
   "source": []
  },
  {
   "cell_type": "code",
   "execution_count": 3,
   "metadata": {},
   "outputs": [],
   "source": [
    "import numpy as np\n",
    "import matplotlib.pyplot as plt\n",
    "import matplotlib.image as mpimg\n",
    "from matplotlib import figure"
   ]
  },
  {
   "cell_type": "code",
   "execution_count": 70,
   "metadata": {},
   "outputs": [],
   "source": [
    "matrix = np.array([[0,1],[2,3]])"
   ]
  },
  {
   "cell_type": "code",
   "execution_count": null,
   "metadata": {},
   "outputs": [],
   "source": [
    "print(matrix)"
   ]
  },
  {
   "cell_type": "code",
   "execution_count": null,
   "metadata": {},
   "outputs": [],
   "source": [
    "plt.imshow(matrix)"
   ]
  },
  {
   "cell_type": "code",
   "execution_count": 76,
   "metadata": {},
   "outputs": [],
   "source": [
    "matrix = np.array([[ 0, 1, 2, 3, 4],\n",
    "                   [ 5, 6, 7, 8, 9],\n",
    "                   [ 10, 11, 12, 13, 14],\n",
    "                   [15, 16, 17, 18, 19]])"
   ]
  },
  {
   "cell_type": "code",
   "execution_count": null,
   "metadata": {},
   "outputs": [],
   "source": [
    "plt.imshow(matrix)"
   ]
  },
  {
   "cell_type": "code",
   "execution_count": null,
   "metadata": {},
   "outputs": [],
   "source": [
    "plt.imshow(matrix, cmap='gray')"
   ]
  },
  {
   "cell_type": "code",
   "execution_count": 7,
   "metadata": {},
   "outputs": [],
   "source": [
    "matrix = np.array([\n",
    "    [ 0, 1, 0, 1, 0],\n",
    "    [ 0, 0, 0, 0, 0],\n",
    "    [ 1, 0, 0, 0, 1],\n",
    "    [0, 1, 1, 1, 0]])"
   ]
  },
  {
   "cell_type": "code",
   "execution_count": null,
   "metadata": {},
   "outputs": [],
   "source": [
    "plt.imshow(matrix)"
   ]
  },
  {
   "cell_type": "code",
   "execution_count": 87,
   "metadata": {},
   "outputs": [],
   "source": [
    "matrix2 = np.zeros([16,16])"
   ]
  },
  {
   "cell_type": "code",
   "execution_count": null,
   "metadata": {},
   "outputs": [],
   "source": [
    "matrix2"
   ]
  },
  {
   "cell_type": "code",
   "execution_count": null,
   "metadata": {},
   "outputs": [],
   "source": [
    "plt.imshow(matrix2)"
   ]
  },
  {
   "cell_type": "code",
   "execution_count": null,
   "metadata": {},
   "outputs": [],
   "source": [
    "plt.imshow(matrix2, cmap=\"gray\")"
   ]
  },
  {
   "cell_type": "code",
   "execution_count": null,
   "metadata": {},
   "outputs": [],
   "source": [
    "matrix2[1,0]=1\n",
    "plt.imshow(matrix2, cmap=\"gray\")"
   ]
  },
  {
   "cell_type": "code",
   "execution_count": null,
   "metadata": {},
   "outputs": [],
   "source": [
    "matrix2[1,0]"
   ]
  },
  {
   "cell_type": "code",
   "execution_count": null,
   "metadata": {},
   "outputs": [],
   "source": [
    "matrix2[8,8]=1\n",
    "plt.imshow(matrix2, cmap=\"gray\")"
   ]
  },
  {
   "cell_type": "code",
   "execution_count": 92,
   "metadata": {},
   "outputs": [],
   "source": [
    "matrix2[:]=0"
   ]
  },
  {
   "cell_type": "code",
   "execution_count": null,
   "metadata": {},
   "outputs": [],
   "source": [
    "plt.imshow(matrix2)"
   ]
  },
  {
   "cell_type": "code",
   "execution_count": null,
   "metadata": {},
   "outputs": [],
   "source": [
    "plt.imshow(matrix2, cmap=\"gray\")"
   ]
  },
  {
   "attachments": {},
   "cell_type": "markdown",
   "metadata": {},
   "source": [
    "### Ejercicios\n",
    "\n",
    "1. Poner la fila 1 en color blanco\n",
    "2. Poner la columna 1 en color blanco"
   ]
  },
  {
   "cell_type": "code",
   "execution_count": null,
   "metadata": {},
   "outputs": [],
   "source": [
    "for i in range(16):\n",
    "    matrix2[0,i]=1\n",
    "plt.imshow(matrix2, cmap=\"gray\")"
   ]
  },
  {
   "cell_type": "code",
   "execution_count": null,
   "metadata": {},
   "outputs": [],
   "source": [
    "for i in range(16):\n",
    "    matrix2[i,0]=1\n",
    "plt.imshow(matrix2, cmap=\"gray\")"
   ]
  },
  {
   "cell_type": "markdown",
   "metadata": {},
   "source": [
    "### Continuemos"
   ]
  },
  {
   "cell_type": "code",
   "execution_count": null,
   "metadata": {},
   "outputs": [],
   "source": [
    "contador=0\n",
    "for i in range(16):\n",
    "    for j in range (16):\n",
    "        matrix2[i,j]=contador\n",
    "        contador +=1\n",
    "plt.imshow(matrix2,cmap=\"gray\")"
   ]
  },
  {
   "cell_type": "code",
   "execution_count": null,
   "metadata": {},
   "outputs": [],
   "source": [
    "matrix2"
   ]
  },
  {
   "cell_type": "code",
   "execution_count": null,
   "metadata": {},
   "outputs": [],
   "source": [
    "plt.imshow(matrix2)"
   ]
  },
  {
   "cell_type": "code",
   "execution_count": 102,
   "metadata": {},
   "outputs": [],
   "source": [
    "img=mpimg.imread('images/paisaje.png')"
   ]
  },
  {
   "cell_type": "code",
   "execution_count": null,
   "metadata": {},
   "outputs": [],
   "source": [
    "img"
   ]
  },
  {
   "cell_type": "code",
   "execution_count": null,
   "metadata": {},
   "outputs": [],
   "source": [
    "imgplot = plt.imshow(img)\n",
    "# Mapas de colores en https://matplotlib.org/examples/color/colormaps_reference.html"
   ]
  },
  {
   "cell_type": "code",
   "execution_count": null,
   "metadata": {},
   "outputs": [],
   "source": [
    "plt.imshow(img**2)"
   ]
  },
  {
   "cell_type": "code",
   "execution_count": null,
   "metadata": {},
   "outputs": [],
   "source": [
    "imgplot = plt.imshow(img, cmap='gray')"
   ]
  },
  {
   "cell_type": "code",
   "execution_count": null,
   "metadata": {},
   "outputs": [],
   "source": [
    "imgplot = plt.imshow(img, cmap='hsv')"
   ]
  },
  {
   "cell_type": "code",
   "execution_count": null,
   "metadata": {},
   "outputs": [],
   "source": [
    "img.shape"
   ]
  },
  {
   "cell_type": "code",
   "execution_count": null,
   "metadata": {},
   "outputs": [],
   "source": [
    "img.size"
   ]
  },
  {
   "cell_type": "code",
   "execution_count": 4,
   "metadata": {},
   "outputs": [],
   "source": [
    "img2 = mpimg.imread('images/imagen1.png')"
   ]
  },
  {
   "cell_type": "code",
   "execution_count": null,
   "metadata": {},
   "outputs": [],
   "source": [
    "img2"
   ]
  },
  {
   "cell_type": "code",
   "execution_count": null,
   "metadata": {},
   "outputs": [],
   "source": [
    "plt.imshow(img2**25)"
   ]
  }
 ],
 "metadata": {
  "kernelspec": {
   "display_name": "Python 3 (ipykernel)",
   "language": "python",
   "name": "python3"
  },
  "language_info": {
   "codemirror_mode": {
    "name": "ipython",
    "version": 3
   },
   "file_extension": ".py",
   "mimetype": "text/x-python",
   "name": "python",
   "nbconvert_exporter": "python",
   "pygments_lexer": "ipython3",
   "version": "3.12.1"
  },
  "orig_nbformat": 4
 },
 "nbformat": 4,
 "nbformat_minor": 2
}
