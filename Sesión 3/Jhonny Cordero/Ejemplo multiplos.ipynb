{
 "cells": [
  {
   "cell_type": "code",
   "execution_count": 5,
   "metadata": {},
   "outputs": [
    {
     "name": "stdout",
     "output_type": "stream",
     "text": [
      "8363484380 es múltiplo de 2\n"
     ]
    }
   ],
   "source": [
    "a = 8363484380  #Defina la variable con el número que va a determinar si es múltiplo de 2\n",
    "b = 2  #Defina la variable que va a tener el residuo entre el número a y el número 2\n",
    "\n",
    "if a%b  ==  0: #multiplo de 2\n",
    "  print(f\"{a} es múltiplo de {b}\") #Verdadero\n",
    "else : #Si no se cumple\n",
    "  print(f\"{a} no es múltiplo de {b}\") #falso\n"
   ]
  }
 ],
 "metadata": {
  "kernelspec": {
   "display_name": "Python 3",
   "language": "python",
   "name": "python3"
  },
  "language_info": {
   "codemirror_mode": {
    "name": "ipython",
    "version": 3
   },
   "file_extension": ".py",
   "mimetype": "text/x-python",
   "name": "python",
   "nbconvert_exporter": "python",
   "pygments_lexer": "ipython3",
   "version": "3.12.1"
  }
 },
 "nbformat": 4,
 "nbformat_minor": 2
}
