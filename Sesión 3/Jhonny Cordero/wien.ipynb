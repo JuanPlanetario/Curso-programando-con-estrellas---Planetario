{
 "cells": [
  {
   "cell_type": "code",
   "execution_count": 2,
   "metadata": {},
   "outputs": [],
   "source": [
    "## Desafío\n",
    "\n",
    "#Escribir un código que utilice la ley de Wien para definir dos funciones:\n",
    "#1. Una que retorne la temperatura superficial de una estrella conociendo el pico de longitud de onda\n",
    "#2. Otra que retorne el pico de longitud de onda conociendo la temperatura superficial de la estrella. \n",
    "\n",
    "#Subir el archivo como wien.ipynb a la carpeta con su nombre."
   ]
  },
  {
   "cell_type": "code",
   "execution_count": 1,
   "metadata": {},
   "outputs": [
    {
     "name": "stdout",
     "output_type": "stream",
     "text": [
      "4.139428571428572e-07\n",
      "4.139428571428572e-07\n"
     ]
    }
   ],
   "source": [
    "wien=0.0028976\n",
    "T=7000  \n",
    "l_max = wien/T\n",
    "inverse_T = 1/T\n",
    "l_max2 = wien*inverse_T\n",
    "print (l_max)\n",
    "print (l_max2)\n"
   ]
  }
 ],
 "metadata": {
  "kernelspec": {
   "display_name": "Python 3",
   "language": "python",
   "name": "python3"
  },
  "language_info": {
   "codemirror_mode": {
    "name": "ipython",
    "version": 3
   },
   "file_extension": ".py",
   "mimetype": "text/x-python",
   "name": "python",
   "nbconvert_exporter": "python",
   "pygments_lexer": "ipython3",
   "version": "3.12.1"
  }
 },
 "nbformat": 4,
 "nbformat_minor": 2
}
