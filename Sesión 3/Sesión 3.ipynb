{
 "cells": [
  {
   "cell_type": "markdown",
   "metadata": {},
   "source": [
    "# Día 3, ¡Yuju!"
   ]
  },
  {
   "cell_type": "markdown",
   "metadata": {},
   "source": [
    "## Creación de carpetas y guía para el trabajo colaborativo"
   ]
  },
  {
   "cell_type": "markdown",
   "metadata": {},
   "source": [
    "Antes que nada, al abrir el espacio de código se deben descargar los cambios realizados hasta el momento. Esto puede suceder vía \"git pull\" o yendo al control de código fuente y dando click en el botón verde de confirmación."
   ]
  },
  {
   "cell_type": "markdown",
   "metadata": {},
   "source": [
    "Luego de haber hecho esta actualización, escribir e incorporar los cambios de la sesión de trabajo. En este caso, vamos a crear dentro de la carpeta \"Sesión 3\" una carpeta con el primer nombre y primer apellido de cada quien, sin tildes ni caracteres especiales como la \"ñ\". Ejemplo: \"Juan Rodriguez\". Una vez hecho esto, seguimos los comandos: git add ., git commit -m \"Nombre_del_cambio\", git push. "
   ]
  },
  {
   "cell_type": "markdown",
   "metadata": {},
   "source": [
    "En el caso de que esto genere conflicto, desde el control de código fuente (tercera opción en la barra izquierda con dibujito de nodos) puede revisarse el pull que no se ha realizado y, de ser necesario, ejecutar un \"pull with rebase\"."
   ]
  },
  {
   "cell_type": "markdown",
   "metadata": {},
   "source": [
    "## Control de flujo"
   ]
  },
  {
   "cell_type": "markdown",
   "metadata": {},
   "source": [
    "### Ciclo while"
   ]
  },
  {
   "cell_type": "markdown",
   "metadata": {},
   "source": [
    "Control de flujo útil cuando se conoce una condición que mantenga al ciclo funcionando. Por ejemplo, si se quiere escribir un programa que imprima los números del 1 al 10, el ciclo puede ser que se imprima cada número entero desde 1 y que se imprima **mientras** los números sean menores o iguales que diez."
   ]
  },
  {
   "cell_type": "code",
   "execution_count": 1,
   "metadata": {},
   "outputs": [
    {
     "name": "stdout",
     "output_type": "stream",
     "text": [
      "1\n",
      "2\n",
      "3\n",
      "4\n",
      "5\n",
      "6\n",
      "7\n",
      "8\n",
      "9\n",
      "10\n"
     ]
    }
   ],
   "source": [
    "n=1\n",
    "\n",
    "while(n <= 10):\n",
    "    print (n)\n",
    "    n = n + 1\n"
   ]
  },
  {
   "cell_type": "code",
   "execution_count": 2,
   "metadata": {},
   "outputs": [
    {
     "data": {
      "text/plain": [
       "11"
      ]
     },
     "execution_count": 2,
     "metadata": {},
     "output_type": "execute_result"
    }
   ],
   "source": [
    "n"
   ]
  },
  {
   "cell_type": "markdown",
   "metadata": {},
   "source": [
    "Depende altamente del orden de las instrucciones"
   ]
  },
  {
   "cell_type": "code",
   "execution_count": 6,
   "metadata": {},
   "outputs": [
    {
     "name": "stdout",
     "output_type": "stream",
     "text": [
      "2\n",
      "3\n",
      "4\n",
      "5\n",
      "6\n",
      "7\n",
      "8\n",
      "9\n",
      "10\n",
      "11\n"
     ]
    }
   ],
   "source": [
    "n=1\n",
    "\n",
    "while(n <= 10):\n",
    "    n = n + 1\n",
    "    print(n)"
   ]
  },
  {
   "cell_type": "code",
   "execution_count": 4,
   "metadata": {},
   "outputs": [
    {
     "data": {
      "text/plain": [
       "11"
      ]
     },
     "execution_count": 4,
     "metadata": {},
     "output_type": "execute_result"
    }
   ],
   "source": [
    "n"
   ]
  },
  {
   "cell_type": "markdown",
   "metadata": {},
   "source": [
    "Si se le da un valor menor a n, ¿qué pasa con la condición?."
   ]
  },
  {
   "cell_type": "code",
   "execution_count": null,
   "metadata": {},
   "outputs": [],
   "source": [
    "# Demosle un valor menor a n\n",
    "n = -21\n",
    "\n",
    "while(n <= 10):\n",
    "    n = n + 1\n",
    "    print(n)"
   ]
  },
  {
   "cell_type": "markdown",
   "metadata": {},
   "source": [
    "Pero si se le da un valor mayor a diez, ¿qué sucede?"
   ]
  },
  {
   "cell_type": "code",
   "execution_count": null,
   "metadata": {},
   "outputs": [],
   "source": [
    "# Demosle un valor mayor a n\n",
    "n = -21\n",
    "\n",
    "while(n <= 10):\n",
    "    n = n + 1\n",
    "    print(n)"
   ]
  },
  {
   "cell_type": "markdown",
   "metadata": {},
   "source": [
    "### Ciclo for"
   ]
  },
  {
   "cell_type": "markdown",
   "metadata": {},
   "source": [
    "En el caso de querer iniciar un ciclo que tenga definidos los elementos involucrados, se utiliza el ciclo for. Continuando con el caso anterior, el ciclo **para** contar de 1 a 10 involucra diez pasos, los cuales se pueden comunicar al comando for usando el comando *range()*."
   ]
  },
  {
   "cell_type": "code",
   "execution_count": null,
   "metadata": {},
   "outputs": [],
   "source": [
    "for i in range(10):\n",
    "    print(i)"
   ]
  },
  {
   "cell_type": "markdown",
   "metadata": {},
   "source": [
    "Aquí se utiliza una variable que es definida en el mismo ciclo (i en nuestro caso) y que va a tomar los valores **dentro** del elemento range(10)"
   ]
  },
  {
   "cell_type": "code",
   "execution_count": null,
   "metadata": {},
   "outputs": [],
   "source": [
    "list(range(10))"
   ]
  },
  {
   "cell_type": "markdown",
   "metadata": {},
   "source": [
    "El ciclo for es más potente que el ciclo while, pues permite ir procesando el contenido del ciclo a partir de valores definidos dentro de una lista."
   ]
  },
  {
   "cell_type": "code",
   "execution_count": null,
   "metadata": {},
   "outputs": [],
   "source": [
    "my_list = [\"hola\", \"todos\", 3, \"es entero (int)\", 4.567, \"es decimal (float)\", \"Hubble\", \"es un telescopio (str)\"]\n",
    "\n",
    "for i in my_list:\n",
    "    print (i)"
   ]
  },
  {
   "cell_type": "markdown",
   "metadata": {},
   "source": [
    "### Condicionales if, elif y else"
   ]
  },
  {
   "cell_type": "markdown",
   "metadata": {},
   "source": [
    "El comando if permite ejecutar acciones que se desencadenan al evaluar una condición y se determina que es verdadera (*True*). Por ejemplo, un programa que solicite al usuario (a través del comando *input()*) cualquier número y que **si** es mayor que cero escriba un mensaje. Por ahora, no hará nada más, por lo que si la condición no se cumple seguirá con los comandos posteriores fuera del condicional."
   ]
  },
  {
   "cell_type": "code",
   "execution_count": null,
   "metadata": {},
   "outputs": [],
   "source": [
    "a = int(input(\"Por favor ingrese cualquier número entero\"))\n",
    "\n",
    "if a > 0:\n",
    "    print(\"El número es mayor que cero\")\n",
    "\n",
    "print(\"No entré al control de flujo\")"
   ]
  },
  {
   "cell_type": "markdown",
   "metadata": {},
   "source": [
    "Es posible decir qué sucederá cuando la condición no se cumple (*False*) a través del comando else y así garantizar la entrada al control de flujo. En este caso, escribamos un programa que evalúe si el número es mayor que cero y, si lo es, imprima un mensaje; **si no** que imprima otro mensaje."
   ]
  },
  {
   "cell_type": "code",
   "execution_count": null,
   "metadata": {},
   "outputs": [],
   "source": [
    "a = int(input(\"Por favor ingrese cualquier número entero\"))\n",
    "\n",
    "if a > 0:\n",
    "    print(\"El número es mayor que cero\")\n",
    "else:\n",
    "    print(\"El númerio es menor que cero\")"
   ]
  },
  {
   "cell_type": "markdown",
   "metadata": {},
   "source": [
    "Quienes son más perspicaces se han dado cuenta que si el número que se ingresa es cero, la consola imprimirá que cero es menor que cero (pueden intentarlo en sus archivos temporales de esta sesión). En este caso, se pueden agregar tantas condiciones adicionales como se requiera con el comando elif (sí, como la novela). Hagamos que nuestro programa imprima un mensaje **si también** el valor ingresado es cero."
   ]
  },
  {
   "cell_type": "code",
   "execution_count": null,
   "metadata": {},
   "outputs": [],
   "source": [
    "a = int(input(\"Por favor ingrese cualquier número entero\"))\n",
    "\n",
    "if a > 0:\n",
    "    print(\"El número es mayor que cero\")\n",
    "elif a == 0:\n",
    "    print(\"El número es igual a cero\")\n",
    "else:\n",
    "    print(\"El número es menor que cero\")"
   ]
  },
  {
   "cell_type": "markdown",
   "metadata": {},
   "source": [
    "### Uso conjunto de los controles de flujo (y reto)"
   ]
  },
  {
   "cell_type": "markdown",
   "metadata": {},
   "source": [
    "Podemos combinar los comandos de control de flujo si para ello satisfacemos la necesidad para la cual construimos nuestro código. Para este ejemplo combinamos el ciclo for anterior y le daremos algunas condiciones aleatorias."
   ]
  },
  {
   "cell_type": "code",
   "execution_count": null,
   "metadata": {},
   "outputs": [],
   "source": [
    "my_list = [\"hola\", \"todos\", 3, \"es entero (int)\", 4.567, \"es decimal (float)\", \"Hubble\", \"es un telescopio (str)\"]\n",
    "\n",
    "\n",
    "for i in my_list:\n",
    "    if i == 3:\n",
    "        print(i)\n",
    "    elif i == \"Hubble\":\n",
    "        print(2*my_list[6])\n",
    "    else:\n",
    "        print(3*str(my_list[4]))"
   ]
  },
  {
   "cell_type": "code",
   "execution_count": null,
   "metadata": {},
   "outputs": [],
   "source": [
    "for n in range(5):\n",
    "    print (n)\n",
    "    if(n > 2):\n",
    "        print (\"n es mayor a 2!!\")"
   ]
  },
  {
   "cell_type": "markdown",
   "metadata": {},
   "source": [
    "**Reto:** Ahora sí, con este conocimiento estamos en la capacidad de copiar el archivo \"Ejemplo multiplos.ipynb\" en la carpeta de cada uno de esta sesión 3 y luego completar el código para escribir un programa que determine si los números ingresados son múltiplos de 2 imprimiendo, por último, un mensaje en caso de que sí o en caso de que no (10 min)."
   ]
  },
  {
   "cell_type": "markdown",
   "metadata": {},
   "source": [
    "Veamos. Sabiendo que para programar tenemos que saber dar órdenes, es importante definir cuál es ese lugar al que se quiere llegar mediante las órdenes que se están dando. En este caso, el conocimiento de las matemáticas será de ayuda. El residuo de cualquier número entero al dividirlo entre el número dos puede dar solo dos resultados: el número 1 **si** es impar o el número 0 **en otro caso**."
   ]
  },
  {
   "cell_type": "code",
   "execution_count": null,
   "metadata": {},
   "outputs": [],
   "source": [
    "x = 21\n",
    "y = 22\n",
    "\n",
    "print( \"x % 2 = \", x % 2 )\n",
    "\n",
    "print( \"y % 2 = \", y % 2 )"
   ]
  },
  {
   "cell_type": "markdown",
   "metadata": {},
   "source": [
    "Ahora, dados estos dos números x y y se escriben las condiciones para que se imprima qué tipos de números son. Lo vamos a hacer un poco diferente solo para ilustrar una opción que no hemos hablado."
   ]
  },
  {
   "cell_type": "code",
   "execution_count": null,
   "metadata": {},
   "outputs": [],
   "source": [
    "#Evaluamos x\n",
    "if( x % 2 == 0):\n",
    "    print( x, \" es un número par\")\n",
    "if( x % 2 == 1):\n",
    "    print( x, \"es un número impar\")\n",
    "    \n",
    "#Evaluamos y\n",
    "if( y % 2 == 0):\n",
    "    print( x, \" es un número par\")\n",
    "if( y % 2 == 1):\n",
    "    print( x, \"es un número impar\")"
   ]
  },
  {
   "cell_type": "markdown",
   "metadata": {},
   "source": [
    "También se puede utilizar el comando if de la mano con el ciclo while, donde se puede combinar con el comando \"break\" si quiere romperse el ciclo al cumplir una cierta condición. Ilustremos un caso en el que el ciclo while quedaría cumpliendo siempre la condición y por lo tanto nunca terminará."
   ]
  },
  {
   "cell_type": "code",
   "execution_count": null,
   "metadata": {},
   "outputs": [],
   "source": [
    "x = 0\n",
    "\n",
    "while 1:\n",
    "    print(x)\n",
    "    x = x+1\n",
    "\n",
    "    #if(x==10):\n",
    "    #    break"
   ]
  },
  {
   "cell_type": "markdown",
   "metadata": {},
   "source": [
    "Al desactivar los comentarios, el ciclo se rompe al cabo de 10 iteraciones."
   ]
  },
  {
   "cell_type": "markdown",
   "metadata": {},
   "source": [
    "Combinemos un ciclo for y los comandos condicionales para saber si los números enteros que integran una lista son pares o impares."
   ]
  },
  {
   "cell_type": "code",
   "execution_count": null,
   "metadata": {},
   "outputs": [],
   "source": [
    "mi_lista = [2,6,8,53,889,13456,98876,37654499]\n",
    "\n",
    "for x in mi_lista:\n",
    "    if( x % 2 == 0):\n",
    "        print( x, \" es un número par\")\n",
    "    if( x % 2 == 1):\n",
    "        print( x, \"es un número impar\")"
   ]
  },
  {
   "cell_type": "markdown",
   "metadata": {},
   "source": [
    "Como en este caso solo hay dos opciones, sabemos que se puede colocar o el condicional if para True o el condicional else para False."
   ]
  },
  {
   "cell_type": "code",
   "execution_count": null,
   "metadata": {},
   "outputs": [],
   "source": [
    "mi_lista = [2,6,8,53,889,13456,98876,37654499]\n",
    "\n",
    "for x in mi_lista:\n",
    "    if( x % 2 == 0):\n",
    "        print( x, \" es un número par\")\n",
    "    else:\n",
    "        print( x, \"es un número impar\")"
   ]
  },
  {
   "cell_type": "markdown",
   "metadata": {},
   "source": [
    "## Funciones"
   ]
  },
  {
   "cell_type": "markdown",
   "metadata": {},
   "source": [
    "Con el conocimiento que tenemos hasta ahora, estamos en la capacidad de escribir códigos que resuelvan problemas sencillos con herramientas que hemos daquirido y con la creatividad que solo se genera en el ejercicio de la programación. \n",
    "¡Felicitaciones!"
   ]
  },
  {
   "cell_type": "markdown",
   "metadata": {},
   "source": [
    "Todo lo visto hasta ahora se puede potenciar si tenemos en cuenta que se pueden escribir códigos que pueden ser usados en otros. Incluso, podemos utilizar códigos que han sido escritos por otras personas :O ¿Cómo se hace esto?"
   ]
  },
  {
   "cell_type": "markdown",
   "metadata": {},
   "source": [
    "Primero, es necesario conocer el concepto de función: Una sección de código que tiene unas entradas, realiza un proceso con ellas y da una salida. Miremos un ejemplo en el que se **define** una función llamada funcion y cuya única **entrada** es \"argumento\". Esta función recibirá cualquier valor que le demos y **retornará** ese mismo valor."
   ]
  },
  {
   "cell_type": "code",
   "execution_count": 27,
   "metadata": {},
   "outputs": [],
   "source": [
    "def funcion(argumento):\n",
    "    \n",
    "    # Se hacen cálculos\n",
    "    # Bla bla bla bla\n",
    "    \n",
    "    return argumento # devuelve un valor"
   ]
  },
  {
   "cell_type": "markdown",
   "metadata": {},
   "source": [
    "Definir una función es un proceso que no necesariamente genera una interacción con el usuario o con otros elementos del código a menos que no sea **llamada**. En este primer caso solo vamos a preguntar qué valor retorna funcion al ingresar el valor 3."
   ]
  },
  {
   "cell_type": "code",
   "execution_count": null,
   "metadata": {},
   "outputs": [],
   "source": [
    "# Llamar a la función:\n",
    "\n",
    "funcion(3)"
   ]
  },
  {
   "cell_type": "markdown",
   "metadata": {},
   "source": [
    "El llamado también puede hacerse a través de la definición de una variable."
   ]
  },
  {
   "cell_type": "code",
   "execution_count": null,
   "metadata": {},
   "outputs": [],
   "source": [
    "a = funcion(3)\n",
    "b = funcion(\"Hubble\")\n",
    "c = funcion(300000.0)\n",
    "\n",
    "print(a, b, c)"
   ]
  },
  {
   "cell_type": "markdown",
   "metadata": {},
   "source": [
    "Solo por experimentar, podríamos hacer una función llamada curso que sin importar qué valor ingrese, siempre retorne el mensaje \"programando  con estrellas\"."
   ]
  },
  {
   "cell_type": "code",
   "execution_count": 35,
   "metadata": {},
   "outputs": [],
   "source": [
    "def curso(argumento):\n",
    "\n",
    "    return \"Programando con estrellas\"    "
   ]
  },
  {
   "cell_type": "markdown",
   "metadata": {},
   "source": [
    "Definamos las mismas variables con las entradas de antes, pero ahora con la nueva función \"curso\"."
   ]
  },
  {
   "cell_type": "code",
   "execution_count": null,
   "metadata": {},
   "outputs": [],
   "source": [
    "a = curso(3)\n",
    "b = curso(\"Hubble\")\n",
    "c = curso(300000.0)\n",
    "\n",
    "print(a, b, c)"
   ]
  },
  {
   "cell_type": "markdown",
   "metadata": {},
   "source": [
    "Como puede suponerse, dentro de la definición de la función puede colocarse cualquier código que se encuentre en función de realizar una operación específica, bien sea simple o compleja. En este caso, definamos la función cuadrado que recibe la entrada a y devuelve la variable resultado."
   ]
  },
  {
   "cell_type": "code",
   "execution_count": 38,
   "metadata": {},
   "outputs": [],
   "source": [
    "def cuadrado(a):\n",
    "    resultado = a * a\n",
    "    return resultado"
   ]
  },
  {
   "cell_type": "code",
   "execution_count": null,
   "metadata": {},
   "outputs": [],
   "source": [
    "cuadrado(3)"
   ]
  },
  {
   "cell_type": "markdown",
   "metadata": {},
   "source": [
    "Definamos la función potencia que reciba **dos** argumentos, el primero será el número de la base y el segundo el número de la potencia, luego retorna la operación directamente."
   ]
  },
  {
   "cell_type": "code",
   "execution_count": 40,
   "metadata": {},
   "outputs": [],
   "source": [
    "def potencia(x, y):\n",
    "    return x**y"
   ]
  },
  {
   "cell_type": "code",
   "execution_count": null,
   "metadata": {},
   "outputs": [],
   "source": [
    "potencia(2,3)"
   ]
  },
  {
   "cell_type": "markdown",
   "metadata": {},
   "source": [
    "Los valores de las entradas de la función pueden establecerse de antemano. Reescribamos un poco el código anterior. Ahora dando algunas indicaciones, también."
   ]
  },
  {
   "cell_type": "code",
   "execution_count": 45,
   "metadata": {},
   "outputs": [],
   "source": [
    "def potencia_2(x, y=2):\n",
    "    # Función que recibe dos argumentos:\n",
    "    # x = valor de la base\n",
    "    # y = valor de la potencia\n",
    "    # Luego, está definido el retorno como la operación x elevado a la y\n",
    "     \n",
    "    return x**y"
   ]
  },
  {
   "cell_type": "markdown",
   "metadata": {},
   "source": [
    "De esta manera queda a elección del usuario si va a pasar un solo valor, el de la base que no está definido, o los dos."
   ]
  },
  {
   "cell_type": "markdown",
   "metadata": {},
   "source": [
    "Pasemos solo uno."
   ]
  },
  {
   "cell_type": "code",
   "execution_count": null,
   "metadata": {},
   "outputs": [],
   "source": [
    "potencia_2(3)"
   ]
  },
  {
   "cell_type": "markdown",
   "metadata": {},
   "source": [
    "Pasemos los dos."
   ]
  },
  {
   "cell_type": "code",
   "execution_count": null,
   "metadata": {},
   "outputs": [],
   "source": [
    "potencia_2(3,4)"
   ]
  },
  {
   "cell_type": "markdown",
   "metadata": {},
   "source": [
    "A pesar de estar definido ele valor de y de antemano, el compilador da prioridad a lo definido por el usuario."
   ]
  },
  {
   "cell_type": "markdown",
   "metadata": {},
   "source": [
    "**Reto:** Vamos a escribir cuatro funciones en el archivo \"operaciones.ipynb\" que cada uno creó. Para esto es muy importante que estén muy pendientes de editar solo su carpeta. Una función por cada operación básica: suma, resta, multiplicación y división. Puede utilizar la estructura del archivo \"Ejemplo funciones.ipynb\" como ayuda."
   ]
  },
  {
   "cell_type": "markdown",
   "metadata": {},
   "source": [
    "## Librerías"
   ]
  },
  {
   "cell_type": "markdown",
   "metadata": {},
   "source": [
    "Las librerías son un conjunto de funciones que han sido escritas de manera previa para uso de un usuario futuro. "
   ]
  },
  {
   "cell_type": "markdown",
   "metadata": {},
   "source": [
    "El archivo \"funciones.ipynb\" de su carpeta puede ser convertido en una librería que tendrá las funciones suma, resta, mul y div a su disposición. Para esto debe:\n",
    " 1. Ir a los tres puntos al lado de \"Esquema\" justo encima de las celdas de código y hacer click en \"exportar\". \n",
    "\n",
    " 2. Posteriormente aceptar la opción \"Script de Python\", lo que abrirá una nueva pestaña. Justo al lado derecho del nombre de la pestaña aparece una flecha hacia la derecha con la cual podremos ejecutar, lo que nos de la opción de cambiar el nombre y guardar el script. \n",
    " \n",
    " 3. Este archivo quedará llamado \"funciones.py\" en su carpeta."
   ]
  },
  {
   "cell_type": "markdown",
   "metadata": {},
   "source": [
    "Una vez tienen este script funciones.py en la carpeta, usen su archivo temporal para hacer el proceso de **importado** de la ahora librería \"funciones\".\n",
    "\n"
   ]
  },
  {
   "cell_type": "code",
   "execution_count": 51,
   "metadata": {},
   "outputs": [],
   "source": [
    "import funciones"
   ]
  },
  {
   "cell_type": "markdown",
   "metadata": {},
   "source": [
    "Al hacer esto tenemos acceso a todas las funciones definidas en el código, las cuales pueden ser usadas como se mecnionó anteriormente. Por ejemplo, usemos la ffunción pow, definida en el archivo funciones.py que dejamos como ejemplo."
   ]
  },
  {
   "cell_type": "code",
   "execution_count": null,
   "metadata": {},
   "outputs": [],
   "source": [
    "pow(3,2)"
   ]
  },
  {
   "cell_type": "markdown",
   "metadata": {},
   "source": [
    "Entonces, una librería es un código en el cual están escritas varias funciones que se pueden utilizar de manera independiente para el fin que se requiera."
   ]
  },
  {
   "cell_type": "markdown",
   "metadata": {},
   "source": [
    "Exploremos una librería llamada math. Para ello es necesario ir a la documentación https://docs.python.org/es/3.10/library/math.html#number-theoretic-and-representation-functions"
   ]
  },
  {
   "cell_type": "markdown",
   "metadata": {},
   "source": [
    "Definamos una función que utilice uno de los *atributos* de la librería math. Los atributos son tipos de funciones que deben ser llamados con el formato librería.función. En este caso utilizaremos la función math.sqrt() que devuelve la raíz cuadrada de un número."
   ]
  },
  {
   "cell_type": "code",
   "execution_count": 58,
   "metadata": {},
   "outputs": [],
   "source": [
    "import math\n",
    "\n",
    "def raiz(x):\n",
    "    return math.sqrt(x)"
   ]
  },
  {
   "cell_type": "code",
   "execution_count": null,
   "metadata": {},
   "outputs": [],
   "source": [
    "raiz(81)"
   ]
  },
  {
   "cell_type": "markdown",
   "metadata": {},
   "source": [
    "Además de funciones, las librerías también pueden tener constantes dependiendo del tema en cuestión. En este caso, llamemos el valor de pi a través de math.pi."
   ]
  },
  {
   "cell_type": "code",
   "execution_count": null,
   "metadata": {},
   "outputs": [],
   "source": [
    "math.pi"
   ]
  },
  {
   "cell_type": "code",
   "execution_count": null,
   "metadata": {},
   "outputs": [],
   "source": [
    "math.e"
   ]
  },
  {
   "cell_type": "markdown",
   "metadata": {},
   "source": [
    "**Retito** Utilice la librería math y el recurso de la documentación para escribir una función que reciba un número y devuelva el valor entero más cercano por debajo. Ejemplo: Si el número es 5.8 que retorne 5."
   ]
  },
  {
   "cell_type": "markdown",
   "metadata": {},
   "source": [
    "## Numpy y matplotlib (づ｡◕‿‿◕｡)づ"
   ]
  },
  {
   "cell_type": "markdown",
   "metadata": {},
   "source": [
    "Numpy es una librería que permite un manejo intuitivo de las variables tipo lista. Para acceder a estas funciones es necesario definir las listas como un **arreglo** de numpy. Esta librería también ofrece opciones para definir estas estructuras de tipo arreglo."
   ]
  },
  {
   "cell_type": "code",
   "execution_count": 71,
   "metadata": {},
   "outputs": [],
   "source": [
    "import numpy as np\n",
    "import matplotlib.pyplot as plt"
   ]
  },
  {
   "cell_type": "code",
   "execution_count": 86,
   "metadata": {},
   "outputs": [],
   "source": [
    "x = np.linspace(-3,3,21)"
   ]
  },
  {
   "cell_type": "code",
   "execution_count": 89,
   "metadata": {},
   "outputs": [
    {
     "data": {
      "text/plain": [
       "array([-3. , -2.7, -2.4, -2.1, -1.8, -1.5, -1.2, -0.9, -0.6, -0.3,  0. ,\n",
       "        0.3,  0.6,  0.9,  1.2,  1.5,  1.8,  2.1,  2.4,  2.7,  3. ])"
      ]
     },
     "execution_count": 89,
     "metadata": {},
     "output_type": "execute_result"
    }
   ],
   "source": [
    "x"
   ]
  },
  {
   "cell_type": "code",
   "execution_count": 87,
   "metadata": {},
   "outputs": [
    {
     "data": {
      "text/plain": [
       "numpy.ndarray"
      ]
     },
     "execution_count": 87,
     "metadata": {},
     "output_type": "execute_result"
    }
   ],
   "source": [
    "type(x)"
   ]
  },
  {
   "cell_type": "code",
   "execution_count": 88,
   "metadata": {},
   "outputs": [
    {
     "data": {
      "text/plain": [
       "np.float64(-2.7)"
      ]
     },
     "execution_count": 88,
     "metadata": {},
     "output_type": "execute_result"
    }
   ],
   "source": [
    "x[1]"
   ]
  },
  {
   "cell_type": "code",
   "execution_count": 75,
   "metadata": {},
   "outputs": [],
   "source": [
    "def recta(x, m, b):\n",
    "    \n",
    "    y = m * x + b\n",
    "    \n",
    "    return y"
   ]
  },
  {
   "cell_type": "code",
   "execution_count": 76,
   "metadata": {},
   "outputs": [],
   "source": [
    "y = recta(x, 1, 0) "
   ]
  },
  {
   "cell_type": "markdown",
   "metadata": {},
   "source": [
    "Matplotlib es una librería que permite hacer distintos tipos de gráficos y manipular algunas de las características que pueden llegar a ser necesarias como títulos, etiquetas, tamaños, etc."
   ]
  },
  {
   "cell_type": "code",
   "execution_count": null,
   "metadata": {},
   "outputs": [],
   "source": [
    "plt.plot(x,y)\n",
    "plt.axis('equal')"
   ]
  },
  {
   "cell_type": "code",
   "execution_count": null,
   "metadata": {},
   "outputs": [],
   "source": [
    "plt.scatter(x,y)\n",
    "\n",
    "plt.axis('equal')"
   ]
  },
  {
   "cell_type": "code",
   "execution_count": null,
   "metadata": {},
   "outputs": [],
   "source": [
    "plt.title(\"Una bonita recta\")\n",
    "\n",
    "plt.xlabel(\"eje x\")\n",
    "plt.ylabel(\"eje y\");\n",
    "\n",
    "plt.plot( x, recta(x,1,0), label= \"m=1, b=0\")\n",
    "\n",
    "plt.legend()\n",
    "plt.axis('equal')"
   ]
  },
  {
   "cell_type": "code",
   "execution_count": null,
   "metadata": {},
   "outputs": [],
   "source": [
    "plt.title(\"Varias bonitas rectas\")\n",
    "\n",
    "plt.xlabel(\"eje x\")\n",
    "plt.ylabel(\"eje y\");\n",
    "\n",
    "plt.plot( x, recta(x,1,0), label= \"m=1, b=0\")\n",
    "plt.plot( x, recta(x,0,0), label= \"m=0, b=0\")\n",
    "plt.plot( x, recta(x,-2,0), label= \"m=-2, b=0\")\n",
    "\n",
    "\n",
    "plt.legend()\n",
    "plt.axis('equal')"
   ]
  },
  {
   "cell_type": "code",
   "execution_count": null,
   "metadata": {},
   "outputs": [],
   "source": [
    "fig = plt.figure(figsize=[7,7])\n",
    "plt.xlim(-3,3)\n",
    "plt.ylim(-3,3)\n",
    "\n",
    "plt.title(\"Varias rectas muy bonitas\")\n",
    "\n",
    "plt.xlabel(\"eje x\")\n",
    "plt.ylabel(\"eje y\");\n",
    "\n",
    "plt.plot( x, recta(x,1,0), label= \"m=1, b=0\")\n",
    "plt.plot( x, recta(x,0,0), label= \"m=0, b=0\")\n",
    "plt.plot( x, recta(x,-2,0), label= \"m=-2, b=0\")\n",
    "\n",
    "plt.legend()"
   ]
  },
  {
   "cell_type": "code",
   "execution_count": null,
   "metadata": {},
   "outputs": [],
   "source": [
    "fig = plt.figure(figsize=[7,7])\n",
    "plt.xlim(-3,3)\n",
    "plt.ylim(-3,3)\n",
    "\n",
    "plt.title(\"Varias rectas muy bonitas\")\n",
    "\n",
    "plt.xlabel(\"eje x\")\n",
    "plt.ylabel(\"eje y\");\n",
    "\n",
    "plt.plot( x, recta(x,1,0), label= \"m=1, b=0\")\n",
    "plt.plot( x, recta(x,1,2), label= \"m=1, b=2\")\n",
    "plt.plot( x, recta(x,1,4), label= \"m=1, b=4\")\n",
    "\n",
    "plt.legend()"
   ]
  },
  {
   "cell_type": "code",
   "execution_count": 83,
   "metadata": {},
   "outputs": [],
   "source": [
    "def cuadratica(x,a,b,c):\n",
    "    y = a*x**2 + b*x + c\n",
    "    return y"
   ]
  },
  {
   "cell_type": "code",
   "execution_count": null,
   "metadata": {},
   "outputs": [],
   "source": [
    "fig = plt.figure(figsize=[7,7])\n",
    "plt.xlim(-3,3)\n",
    "plt.ylim(-3,3)\n",
    "\n",
    "\n",
    "plt.title(\"Una función muy cuadrática\")\n",
    "\n",
    "plt.xlabel(\"eje x\")\n",
    "plt.ylabel(\"eje y\");\n",
    "\n",
    "plt.plot( x, cuadratica(x,2,-1,-1), label= \"$2 x^2 - x - 1$\")\n",
    "\n",
    "plt.legend()"
   ]
  },
  {
   "cell_type": "code",
   "execution_count": null,
   "metadata": {},
   "outputs": [],
   "source": [
    "fig = plt.figure(figsize=[7,7])\n",
    "plt.xlim(-3,3)\n",
    "plt.ylim(-3,3)\n",
    "\n",
    "\n",
    "plt.title(\"Muchas curvas muy cuadráticas\")\n",
    "\n",
    "plt.xlabel(\"eje x\")\n",
    "plt.ylabel(\"eje y\");\n",
    "\n",
    "plt.plot( x, cuadratica(x,2,-1,-1), label= \"$2 x^2 - x - 1$\")\n",
    "plt.plot( x, cuadratica(x,-2,+1,+2), label= \"$-2 x^2 + x + 2$\")\n",
    "\n",
    "\n",
    "plt.legend()"
   ]
  },
  {
   "cell_type": "markdown",
   "metadata": {},
   "source": [
    "## Desafío\n",
    "\n",
    "Escribir un código que utilice la ley de Wien para definir dos funciones:\n",
    "1. Una que retorne la temperatura superficial de una estrella conociendo el pico de longitud de onda\n",
    "2. Otra que retorne el pico de longitud de onda conociendo la temperatura superficial de la estrella. \n",
    "\n",
    "Subir el archivo como wien.py a la carpeta con su nombre."
   ]
  }
 ],
 "metadata": {
  "kernelspec": {
   "display_name": "Python 3",
   "language": "python",
   "name": "python3"
  },
  "language_info": {
   "codemirror_mode": {
    "name": "ipython",
    "version": 3
   },
   "file_extension": ".py",
   "mimetype": "text/x-python",
   "name": "python",
   "nbconvert_exporter": "python",
   "pygments_lexer": "ipython3",
   "version": "3.12.1"
  }
 },
 "nbformat": 4,
 "nbformat_minor": 2
}
