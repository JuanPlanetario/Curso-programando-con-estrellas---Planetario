{
 "cells": [
  {
   "cell_type": "markdown",
   "metadata": {},
   "source": [
    "# Día 3, ¡Yuju!"
   ]
  },
  {
   "cell_type": "markdown",
   "metadata": {},
   "source": [
    "## Creación de carpetas y guía para el trabajo colaborativo"
   ]
  },
  {
   "cell_type": "markdown",
   "metadata": {},
   "source": [
    "Antes que nada, al abrir el espacio de código se deben descargar los cambios realizados hasta el momento. Esto puede suceder vía \"git pull\" o yendo al control de código fuente y dando click en el botón verde de confirmación."
   ]
  },
  {
   "cell_type": "markdown",
   "metadata": {},
   "source": [
    "Luego de haber hecho esta actualización, escribir e incorporar los cambios de la sesión de trabajo. En este caso, vamos a crear dentro de la carpeta \"Sesión 3\" una carpeta con el primer nombre y primer apellido de cada quien, sin tildes ni caracteres especiales como la \"ñ\". Ejemplo: \"Juan Rodriguez\". Una vez hecho esto, seguimos los comandos: git add ., git commit -m \"Nombre_del_cambio\", git push. "
   ]
  },
  {
   "cell_type": "markdown",
   "metadata": {},
   "source": [
    "En el caso de que esto genere conflicto, desde el control de código fuente (tercera opción en la barra izquierda con dibujito de nodos) puede revisarse el pull que no se ha realizado y, de ser necesario, ejecutar un \"pull with rebase\"."
   ]
  },
  {
   "cell_type": "markdown",
   "metadata": {},
   "source": [
    "## Control de flujo"
   ]
  },
  {
   "cell_type": "markdown",
   "metadata": {},
   "source": [
    "### Ciclo while"
   ]
  },
  {
   "cell_type": "markdown",
   "metadata": {},
   "source": [
    "Control de flujo útil cuando se conoce una condición que mantenga al ciclo funcionando. Por ejemplo, si se quiere escribir un programa que imprima los números del 1 al 10, el ciclo puede ser que se imprima cada número entero desde 1 y que se imprima **mientras** los números sean menores o iguales que diez."
   ]
  },
  {
   "cell_type": "code",
   "execution_count": null,
   "metadata": {},
   "outputs": [],
   "source": [
    "n=1\n",
    "\n",
    "while(n <= 10):\n",
    "    print (n)\n",
    "    n = n + 1\n"
   ]
  },
  {
   "cell_type": "code",
   "execution_count": null,
   "metadata": {},
   "outputs": [],
   "source": [
    "n"
   ]
  },
  {
   "cell_type": "markdown",
   "metadata": {},
   "source": [
    "Depende altamente del orden de las instrucciones"
   ]
  },
  {
   "cell_type": "code",
   "execution_count": null,
   "metadata": {},
   "outputs": [],
   "source": [
    "n=1\n",
    "\n",
    "while(n <= 10):\n",
    "    n = n + 1\n",
    "    print(n)"
   ]
  },
  {
   "cell_type": "code",
   "execution_count": null,
   "metadata": {},
   "outputs": [],
   "source": [
    "n"
   ]
  },
  {
   "cell_type": "markdown",
   "metadata": {},
   "source": [
    "Si se le da un valor menor a n, ¿qué pasa con la condición?."
   ]
  },
  {
   "cell_type": "code",
   "execution_count": 6,
   "metadata": {},
   "outputs": [],
   "source": [
    "# Demosle un valor menor a n\n",
    "n = -21\n",
    "\n",
    "while(n <= 10):\n",
    "    n = n + 1\n",
    "    print(n)"
   ]
  },
  {
   "cell_type": "markdown",
   "metadata": {},
   "source": [
    "Pero si se le da un valor mayor a diez, ¿qué sucede?"
   ]
  },
  {
   "cell_type": "code",
   "execution_count": null,
   "metadata": {},
   "outputs": [],
   "source": [
    "# Demosle un valor mayor a n\n",
    "n = -21\n",
    "\n",
    "while(n <= 10):\n",
    "    n = n + 1\n",
    "    print(n)"
   ]
  },
  {
   "cell_type": "markdown",
   "metadata": {},
   "source": [
    "### Ciclo for"
   ]
  },
  {
   "cell_type": "markdown",
   "metadata": {},
   "source": [
    "En el caso de querer iniciar un ciclo que tenga definidos los elementos involucrados, se utiliza el ciclo for. Continuando con el caso anterior, el ciclo **para** contar de 1 a 10 involucra diez pasos, los cuales se pueden comunicar al comando for usando el comando *range()*."
   ]
  },
  {
   "cell_type": "code",
   "execution_count": null,
   "metadata": {},
   "outputs": [],
   "source": [
    "for i in range(10):\n",
    "    print(i)"
   ]
  },
  {
   "cell_type": "markdown",
   "metadata": {},
   "source": [
    "Aquí se utiliza una variable que es definida en el mismo ciclo (i en nuestro caso) y que va a tomar los valores **dentro** del elemento range(10)"
   ]
  },
  {
   "cell_type": "code",
   "execution_count": null,
   "metadata": {},
   "outputs": [],
   "source": [
    "list(range(10))"
   ]
  },
  {
   "cell_type": "markdown",
   "metadata": {},
   "source": [
    "El ciclo for es más potente que el ciclo while, pues permite ir procesando el contenido del ciclo a partir de valores definidos dentro de una lista."
   ]
  },
  {
   "cell_type": "code",
   "execution_count": null,
   "metadata": {},
   "outputs": [],
   "source": [
    "my_list = [\"hola\", \"todos\", 3, \"es entero (int)\", 4.567, \"es decimal (float)\", \"Hubble\", \"es un telescopio (str)\"]\n",
    "\n",
    "for i in my_list:\n",
    "    print (i)"
   ]
  },
  {
   "cell_type": "markdown",
   "metadata": {},
   "source": [
    "### Condicionales if y else"
   ]
  },
  {
   "cell_type": "markdown",
   "metadata": {},
   "source": [
    "El comando if permite ejecutar acciones que se desencadenan al evaluar una condición y se determina que es verdadera (*True*). Por ejemplo, un programa que solicite al usuario (a través del comando *input()*) cualquier número y que **si** es mayor que cero escriba un mensaje. Por ahora, no hará nada más, por lo que si la condición no se cumple seguirá con los comandos posteriores fuera del condicional."
   ]
  },
  {
   "cell_type": "code",
   "execution_count": null,
   "metadata": {},
   "outputs": [],
   "source": [
    "a = int(input(\"Por favor ingrese cualquier número entero\"))\n",
    "\n",
    "if a > 0:\n",
    "    print(\"El número es mayor que cero\")\n",
    "\n",
    "print(\"No entré al control de flujo\")"
   ]
  },
  {
   "cell_type": "markdown",
   "metadata": {},
   "source": [
    "Es posible decir qué sucederá cuando la condición no se cumple (*False*) a través del comando else y así garantizar la entrada al control de flujo. En este caso, escribamos un programa que evalúe si el número es mayor que cero y, si lo es, imprima un mensaje; **si no** que imprima otro mensaje."
   ]
  },
  {
   "cell_type": "code",
   "execution_count": null,
   "metadata": {},
   "outputs": [],
   "source": [
    "a = int(input(\"Por favor ingrese cualquier número entero\"))\n",
    "\n",
    "if a > 0:\n",
    "    print(\"El número es mayor que cero\")\n",
    "else:\n",
    "    print(\"El númerio es menor que cero\")"
   ]
  },
  {
   "cell_type": "markdown",
   "metadata": {},
   "source": [
    "Quienes son más perspicaces se han dado cuenta que si el número que se ingresa es cero, la consola imprimirá que cero es menor que cero (pueden intentarlo en sus archivos temporales de esta sesión). En este caso, se pueden agregar tantas condiciones adicionales como se requiera con el comando elif (sí, como la novela). Hagamos que nuestro programa imprima un mensaje **si también** el valor ingresado es cero."
   ]
  },
  {
   "cell_type": "code",
   "execution_count": null,
   "metadata": {},
   "outputs": [],
   "source": [
    "a = int(input(\"Por favor ingrese cualquier número entero\"))\n",
    "\n",
    "if a > 0:\n",
    "    print(\"El número es mayor que cero\")\n",
    "elif a == 0:\n",
    "    print(\"El número es igual a cero\")\n",
    "else:\n",
    "    print(\"El número es menor que cero\")"
   ]
  },
  {
   "cell_type": "markdown",
   "metadata": {},
   "source": [
    "Podemos combinar los comandos de control de flujo si para ello satisfacemos la necesidad para la cual construimos nuestro código. Para este ejemplo combinamos el ciclo for anterior y le daremos algunas condiciones aleatorias."
   ]
  },
  {
   "cell_type": "code",
   "execution_count": null,
   "metadata": {},
   "outputs": [],
   "source": [
    "my_list = [\"hola\", \"todos\", 3, \"es entero (int)\", 4.567, \"es decimal (float)\", \"Hubble\", \"es un telescopio (str)\"]\n",
    "\n",
    "\n",
    "for i in my_list:\n",
    "    if i == 3:\n",
    "        print(i)\n",
    "    elif i == \"Hubble\":\n",
    "        print(2*my_list[6])\n",
    "    else:\n",
    "        print(3*str(my_list[4]))"
   ]
  },
  {
   "cell_type": "code",
   "execution_count": null,
   "metadata": {},
   "outputs": [],
   "source": [
    "for n in range(5):\n",
    "    print (n)\n",
    "    if(n > 2):\n",
    "        print (\"n es mayor a 2!!\")"
   ]
  },
  {
   "cell_type": "markdown",
   "metadata": {},
   "source": [
    "Ahora sí, con este conocimiento estamos en la capacidad de copiar el archivo \"Ejemplo multiplos.ipynb\" en la carpeta de cada uno de esta sesión 3 y luego completar el código para escribir un programa que determine si los números ingresados son múltiplos de 2 imprimiendo, por último, un mensaje en caso de que sí o en caso de que no."
   ]
  },
  {
   "cell_type": "code",
   "execution_count": null,
   "metadata": {},
   "outputs": [],
   "source": [
    "x = 21\n",
    "y = 22\n",
    "\n",
    "print( \"x % 2 = \", x % 2 )\n",
    "\n",
    "print( \"y % 2 = \", y % 2 )"
   ]
  },
  {
   "cell_type": "code",
   "execution_count": null,
   "metadata": {},
   "outputs": [],
   "source": [
    "n = int(input(\"Ingrese un número entero\"))\n",
    "\n",
    "if n<0:\n",
    "    print (\"n es negativo\")\n",
    "if n>0:\n",
    "    print (\"n es positivo\")\n",
    "if n==0:\n",
    "    print (\"n es cero\")"
   ]
  },
  {
   "cell_type": "code",
   "execution_count": null,
   "metadata": {},
   "outputs": [],
   "source": [
    "if n<0:\n",
    "    print (\"n es negativo\")\n",
    "elif n>0:\n",
    "    print (\"n es positivo\")\n",
    "else:\n",
    "    print (\"n es cero\")"
   ]
  },
  {
   "cell_type": "code",
   "execution_count": null,
   "metadata": {},
   "outputs": [],
   "source": [
    "if( x % 2 == 0):\n",
    "    print( x, \" es un número par\")\n",
    "if( x % 2 == 1):\n",
    "    print( x, \"es un número impar\")\n",
    "if( y % 2 == 0):\n",
    "    print( x, \" es un número par\")\n",
    "if( y % 2 == 1):\n",
    "    print( x, \"es un número impar\")"
   ]
  },
  {
   "cell_type": "code",
   "execution_count": null,
   "metadata": {},
   "outputs": [],
   "source": [
    "x = 0\n",
    "\n",
    "while 1:\n",
    "    print(x)\n",
    "    x = x+1\n",
    "\n",
    "    #if(x==10):\n",
    "    #    break"
   ]
  },
  {
   "cell_type": "code",
   "execution_count": null,
   "metadata": {},
   "outputs": [],
   "source": [
    "mi_lista = [2,6,8,53,889,13456,98876,37654499]\n",
    "\n",
    "for x in mi_lista:\n",
    "    if( x % 2 == 0):\n",
    "        print( x, \" es un número par\")\n",
    "    if( x % 2 == 1):\n",
    "        print( x, \"es un número impar\")"
   ]
  },
  {
   "cell_type": "code",
   "execution_count": null,
   "metadata": {},
   "outputs": [],
   "source": [
    "mi_lista = [2,6,8,53,889,13456,98876,37654499]\n",
    "\n",
    "for x in mi_lista:\n",
    "    if( x % 2 == 0):\n",
    "        print( x, \" es un número par\")\n",
    "    else:\n",
    "        print( x, \"es un número impar\")"
   ]
  },
  {
   "cell_type": "code",
   "execution_count": null,
   "metadata": {},
   "outputs": [],
   "source": [
    "mi_lista = [2,6,8,53,889,13456,98876,37654499]\n",
    "\n",
    "for x in mi_lista:\n",
    "    if( x % 2 == 0):\n",
    "        print( x, \" es un número par\")\n",
    "    a=1\n",
    "    if( x % 2 == 1):\n",
    "        print( x, \"es un número impar\")"
   ]
  },
  {
   "cell_type": "code",
   "execution_count": null,
   "metadata": {},
   "outputs": [],
   "source": [
    "mi_lista = [2,6,8,53,889,13456,98876,37654499]\n",
    "\n",
    "for x in mi_lista:\n",
    "    if( x % 2 == 0):\n",
    "        print( x, \" es un número par\")\n",
    "    a=1\n",
    "    else:\n",
    "        print( x, \"es un número impar\")"
   ]
  }
 ],
 "metadata": {
  "kernelspec": {
   "display_name": "Python 3",
   "language": "python",
   "name": "python3"
  },
  "language_info": {
   "codemirror_mode": {
    "name": "ipython",
    "version": 3
   },
   "file_extension": ".py",
   "mimetype": "text/x-python",
   "name": "python",
   "nbconvert_exporter": "python",
   "pygments_lexer": "ipython3",
   "version": "3.12.1"
  }
 },
 "nbformat": 4,
 "nbformat_minor": 2
}
