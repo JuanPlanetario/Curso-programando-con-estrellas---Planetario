{
 "cells": [
  {
   "cell_type": "code",
   "execution_count": 1,
   "metadata": {},
   "outputs": [
    {
     "name": "stdout",
     "output_type": "stream",
     "text": [
      "a es par\n"
     ]
    }
   ],
   "source": [
    "a = 6  #Defina la variable con el número que va a determinar si es múltiplo de 2\n",
    "b = 7  #Defina la variable que va a tener el residuo entre el número a y el número 2\n",
    "\n",
    "if a % 2 ==0  : #Complete según la primera condición\n",
    "  print(\"a es par\") #Use esta función para imprimir el primer mensaje\n",
    "else  : #Complete según la segunda condición\n",
    "  print(\"no es par\") #Use esta función para imprimir el segundo mensaje\n",
    "\n",
    "#Compile el código"
   ]
  }
 ],
 "metadata": {
  "kernelspec": {
   "display_name": "Python 3",
   "language": "python",
   "name": "python3"
  },
  "language_info": {
   "codemirror_mode": {
    "name": "ipython",
    "version": 3
   },
   "file_extension": ".py",
   "mimetype": "text/x-python",
   "name": "python",
   "nbconvert_exporter": "python",
   "pygments_lexer": "ipython3",
   "version": "3.12.1"
  }
 },
 "nbformat": 4,
 "nbformat_minor": 2
}
