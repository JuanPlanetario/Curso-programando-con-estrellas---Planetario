{
 "cells": [
  {
   "cell_type": "code",
   "execution_count": 2,
   "metadata": {},
   "outputs": [
    {
     "name": "stdout",
     "output_type": "stream",
     "text": [
      "pico de longitud de onda para la estrella en nm\n",
      "0.002898\n"
     ]
    }
   ],
   "source": [
    "a= 0.002898 #constante de Planck\n",
    "b= int (input (\"Ingrese Temperatura de la estrella\"))\n",
    "\n",
    "c= a/b \n",
    "print (\"pico de longitud de onda para la estrella en nm\")\n",
    "print (c)"
   ]
  }
 ],
 "metadata": {
  "kernelspec": {
   "display_name": "Python 3",
   "language": "python",
   "name": "python3"
  },
  "language_info": {
   "codemirror_mode": {
    "name": "ipython",
    "version": 3
   },
   "file_extension": ".py",
   "mimetype": "text/x-python",
   "name": "python",
   "nbconvert_exporter": "python",
   "pygments_lexer": "ipython3",
   "version": "3.12.1"
  }
 },
 "nbformat": 4,
 "nbformat_minor": 2
}
