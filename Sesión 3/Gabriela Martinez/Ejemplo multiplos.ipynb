{
 "cells": [
  {
   "cell_type": "code",
   "execution_count": 2,
   "metadata": {},
   "outputs": [
    {
     "name": "stdout",
     "output_type": "stream",
     "text": [
      "no es multiplo de 2\n"
     ]
    }
   ],
   "source": [
    "a =  int(input(\"Por favor ingrese cualquier número entero\")) #Defina la variable con el número que va a determinar si es múltiplo de 2\n",
    "b =   2 #Defina la variable que va a tener el residuo entre el número a y el número 2\n",
    "\n",
    "if b % a  == 0  : #Complete según la primera condición\n",
    "  print(\"es multiplo de 2\") #Use esta función para imprimir el primer mensaje\n",
    "else  : #Complete según la segunda condición\n",
    "  print(\"no es multiplo de 2\") #Use esta función para imprimir el segundo mensaje\n",
    "\n",
    "#Compile el código"
   ]
  },
  {
   "cell_type": "code",
   "execution_count": 1,
   "metadata": {},
   "outputs": [
    {
     "name": "stdout",
     "output_type": "stream",
     "text": [
      "Tierra\n"
     ]
    },
    {
     "ename": "TypeError",
     "evalue": "'>' not supported between instances of 'str' and 'float'",
     "output_type": "error",
     "traceback": [
      "\u001b[0;31m---------------------------------------------------------------------------\u001b[0m",
      "\u001b[0;31mTypeError\u001b[0m                                 Traceback (most recent call last)",
      "Cell \u001b[0;32mIn[1], line 12\u001b[0m\n\u001b[1;32m     10\u001b[0m \u001b[38;5;28;01mwhile\u001b[39;00m(p):\n\u001b[1;32m     11\u001b[0m   \u001b[38;5;28mprint\u001b[39m (p)\n\u001b[0;32m---> 12\u001b[0m   p \u001b[38;5;241m=\u001b[39m \u001b[43mp\u001b[49m\u001b[43m \u001b[49m\u001b[38;5;241;43m>\u001b[39;49m\u001b[43m \u001b[49m\u001b[43mMercurio\u001b[49m \n",
      "\u001b[0;31mTypeError\u001b[0m: '>' not supported between instances of 'str' and 'float'"
     ]
    }
   ],
   "source": [
    "Tierra = 1 \n",
    "Mercurio = 0.0553\n",
    "venus = 0.815\n",
    "Marte = 0.107\n",
    "Jupiter = 318\n",
    "Saturno = 95.2\n",
    "Urano = 14.5\n",
    "Neptuno = 17.1 \n",
    "p = str (input (\"Ingrese planeta\"))\n",
    "while(p):\n",
    "  print (p)\n",
    "  p = p > Mercurio \n"
   ]
  },
  {
   "cell_type": "code",
   "execution_count": 3,
   "metadata": {},
   "outputs": [
    {
     "name": "stdout",
     "output_type": "stream",
     "text": [
      "1\n",
      "2\n",
      "3\n",
      "4\n",
      "5\n",
      "6\n",
      "7\n",
      "8\n",
      "9\n",
      "10\n"
     ]
    }
   ],
   "source": [
    "x = 0\n",
    "\n",
    "while(1):\n",
    "    \n",
    "    x = x+1\n",
    "    print(x)\n",
    "    if(x==10):\n",
    "        break\n",
    "\n"
   ]
  }
 ],
 "metadata": {
  "kernelspec": {
   "display_name": "Python 3",
   "language": "python",
   "name": "python3"
  },
  "language_info": {
   "codemirror_mode": {
    "name": "ipython",
    "version": 3
   },
   "file_extension": ".py",
   "mimetype": "text/x-python",
   "name": "python",
   "nbconvert_exporter": "python",
   "pygments_lexer": "ipython3",
   "version": "3.12.1"
  }
 },
 "nbformat": 4,
 "nbformat_minor": 2
}
