{
 "cells": [
  {
   "cell_type": "code",
   "execution_count": null,
   "metadata": {},
   "outputs": [],
   "source": [
    "a =  int(input(\"Por favor ingrese cualquier número entero\")) #Defina la variable con el número que va a determinar si es múltiplo de 2\n",
    "b =   #Defina la variable que va a tener el residuo entre el número a y el número 2\n",
    "\n",
    "if b % a  = 2 : #Complete según la primera condición\n",
    "  print(\"es multiplo de 2\") #Use esta función para imprimir el primer mensaje\n",
    "else %  =  : #Complete según la segunda condición\n",
    "  print(\"no es multiplo de 2\") #Use esta función para imprimir el segundo mensaje\n",
    "\n",
    "#Compile el código"
   ]
  }
 ],
 "metadata": {
  "language_info": {
   "name": "python"
  }
 },
 "nbformat": 4,
 "nbformat_minor": 2
}
