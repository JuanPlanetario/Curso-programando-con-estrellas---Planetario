{
 "cells": [
  {
   "cell_type": "markdown",
   "metadata": {},
   "source": [
    "# Libreria #"
   ]
  },
  {
   "cell_type": "code",
   "execution_count": 5,
   "metadata": {},
   "outputs": [],
   "source": [
    "import math"
   ]
  },
  {
   "cell_type": "markdown",
   "metadata": {},
   "source": [
    "# funcion piso # "
   ]
  },
  {
   "cell_type": "code",
   "execution_count": 3,
   "metadata": {},
   "outputs": [],
   "source": [
    "def piso(x):\n",
    "    \n",
    "    return math.floor(x)"
   ]
  },
  {
   "cell_type": "markdown",
   "metadata": {},
   "source": [
    "# funciones #"
   ]
  },
  {
   "cell_type": "code",
   "execution_count": 4,
   "metadata": {},
   "outputs": [],
   "source": [
    "def long_onda(t):\n",
    "    if (t!=0):\n",
    "        l_o= 0.0028976/t\n",
    "    else:\n",
    "        print(\"para calcular la longitud de onda es necesario que la temperatura sea distinta de 0\")\n",
    "        l_o= \"indefinida\"\n",
    "    return l_o\n",
    "\n",
    "def temperatura(l):\n",
    "    if (l!=0):\n",
    "        tempt= 0.0028976/l\n",
    "    else:\n",
    "        print(\"para calcular la temperatura es necesario que la longitud de onda  sea distinta de 0\")\n",
    "        tempt= \"indefinida\"\n",
    "    return tempt\n",
    "    "
   ]
  },
  {
   "cell_type": "markdown",
   "metadata": {},
   "source": [
    "# pico de longitud de onda #"
   ]
  },
  {
   "cell_type": "code",
   "execution_count": 5,
   "metadata": {},
   "outputs": [
    {
     "name": "stdout",
     "output_type": "stream",
     "text": [
      "El pico de longitud de onda de la estrella con temperatura superficial de  1.0  es  0.0028976\n"
     ]
    }
   ],
   "source": [
    "Tempt=float(input(\"ingrese la temperatura superficial de la estrella\"))\n",
    "\n",
    "long_o= long_onda(Tempt)\n",
    "\n",
    "print(\"El pico de longitud de onda de la estrella con temperatura superficial de \", Tempt,\" es \", long_o)"
   ]
  },
  {
   "cell_type": "markdown",
   "metadata": {},
   "source": [
    "# Temperatura # "
   ]
  },
  {
   "cell_type": "code",
   "execution_count": 7,
   "metadata": {},
   "outputs": [
    {
     "name": "stdout",
     "output_type": "stream",
     "text": [
      "para calcular la temperatura es necesario que la longitud de onda  sea distinta de 0\n",
      "La temperatura superficial de la estrella con el pico de longitud de onda  0.0  es  indefinida\n"
     ]
    }
   ],
   "source": [
    "lo_ond=float(input(\"ingrese el pico de longitud de onda de la estrella\"))\n",
    "\n",
    "tmpra=temperatura(lo_ond)\n",
    "\n",
    "print(\"La temperatura superficial de la estrella con el pico de longitud de onda \", lo_ond,\" es \", tmpra)"
   ]
  }
 ],
 "metadata": {
  "kernelspec": {
   "display_name": "Python 3",
   "language": "python",
   "name": "python3"
  },
  "language_info": {
   "codemirror_mode": {
    "name": "ipython",
    "version": 3
   },
   "file_extension": ".py",
   "mimetype": "text/x-python",
   "name": "python",
   "nbconvert_exporter": "python",
   "pygments_lexer": "ipython3",
   "version": "3.12.1"
  }
 },
 "nbformat": 4,
 "nbformat_minor": 2
}
