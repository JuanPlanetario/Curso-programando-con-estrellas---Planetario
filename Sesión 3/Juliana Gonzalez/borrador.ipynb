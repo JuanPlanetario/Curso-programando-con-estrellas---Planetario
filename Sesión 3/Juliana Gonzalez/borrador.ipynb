{
 "cells": [
  {
   "cell_type": "markdown",
   "metadata": {},
   "source": [
    "## Clase 19/09 ##"
   ]
  },
  {
   "cell_type": "code",
   "execution_count": null,
   "metadata": {},
   "outputs": [],
   "source": [
    "for i in range(1,11):\n",
    "    print(i)"
   ]
  },
  {
   "cell_type": "code",
   "execution_count": null,
   "metadata": {},
   "outputs": [],
   "source": [
    "for i in range(20)\n",
    "    print(i+1)"
   ]
  },
  {
   "cell_type": "code",
   "execution_count": 24,
   "metadata": {},
   "outputs": [
    {
     "name": "stdout",
     "output_type": "stream",
     "text": [
      "holi\n",
      "4\n",
      "Wenas\n",
      "8\n",
      "bye\n"
     ]
    }
   ],
   "source": [
    "m_list=[ \"holi\", 4, \"Wenas\", 8, \"bye\"]\n",
    "for i in m_list:\n",
    "    print (i)"
   ]
  },
  {
   "cell_type": "code",
   "execution_count": 8,
   "metadata": {},
   "outputs": [
    {
     "data": {
      "text/plain": [
       "[102, 105, 178, 200]"
      ]
     },
     "execution_count": 8,
     "metadata": {},
     "output_type": "execute_result"
    }
   ],
   "source": [
    "n_list=[2,5,78,100]\n",
    "n_list2=[0,1,2,3]\n",
    "for i in n_list2:\n",
    "    n_list[i]=n_list[i]+100\n",
    "n_list"
   ]
  },
  {
   "cell_type": "code",
   "execution_count": 14,
   "metadata": {},
   "outputs": [
    {
     "data": {
      "text/plain": [
       "[2, 5, 78, 100, 7]"
      ]
     },
     "execution_count": 14,
     "metadata": {},
     "output_type": "execute_result"
    }
   ],
   "source": [
    "n_list=[2,5,78,100]\n",
    "n_list.append(7)\n",
    "n_list"
   ]
  },
  {
   "cell_type": "code",
   "execution_count": 15,
   "metadata": {},
   "outputs": [
    {
     "data": {
      "text/plain": [
       "5"
      ]
     },
     "execution_count": 15,
     "metadata": {},
     "output_type": "execute_result"
    }
   ],
   "source": [
    "len(n_list)"
   ]
  },
  {
   "cell_type": "code",
   "execution_count": 19,
   "metadata": {},
   "outputs": [
    {
     "name": "stdout",
     "output_type": "stream",
     "text": [
      "0\n",
      "1\n",
      "2\n",
      "3\n"
     ]
    }
   ],
   "source": [
    "for i in range(len(n_list2)):\n",
    "    print(i)"
   ]
  },
  {
   "cell_type": "code",
   "execution_count": 22,
   "metadata": {},
   "outputs": [
    {
     "name": "stdout",
     "output_type": "stream",
     "text": [
      " el número  0  es el cero\n"
     ]
    }
   ],
   "source": [
    "ent=int(input(\"Ingrece un número entero\"))\n",
    "\n",
    "if ent > 0 :\n",
    "     print(\" el número \", ent, \" es natural\" )\n",
    "elif ent==0 :\n",
    "    print(\" el número ingresado es el cero\" )\n",
    "else: \n",
    "     print(\" el número \", ent, \" es entero negativo\" )\n",
    "    \n"
   ]
  },
  {
   "cell_type": "code",
   "execution_count": 25,
   "metadata": {},
   "outputs": [
    {
     "name": "stdout",
     "output_type": "stream",
     "text": [
      "no se encontro nada xd\n",
      "4\n",
      "Wenas\n",
      "no se encontro nada xd\n",
      "no se encontro nada xd\n"
     ]
    }
   ],
   "source": [
    "for i in m_list:\n",
    "    if i== 4:\n",
    "        print(i)\n",
    "    elif i== \"Wenas\":\n",
    "        print(i)\n",
    "    else:\n",
    "        print(\"no se encontro nada xd\")"
   ]
  },
  {
   "cell_type": "code",
   "execution_count": null,
   "metadata": {},
   "outputs": [],
   "source": []
  },
  {
   "cell_type": "code",
   "execution_count": null,
   "metadata": {},
   "outputs": [],
   "source": []
  }
 ],
 "metadata": {
  "kernelspec": {
   "display_name": "Python 3",
   "language": "python",
   "name": "python3"
  },
  "language_info": {
   "codemirror_mode": {
    "name": "ipython",
    "version": 3
   },
   "file_extension": ".py",
   "mimetype": "text/x-python",
   "name": "python",
   "nbconvert_exporter": "python",
   "pygments_lexer": "ipython3",
   "version": "3.12.1"
  }
 },
 "nbformat": 4,
 "nbformat_minor": 2
}
