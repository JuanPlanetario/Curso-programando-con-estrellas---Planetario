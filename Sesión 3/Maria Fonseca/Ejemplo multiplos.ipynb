{
 "cells": [
  {
   "cell_type": "code",
   "execution_count": 5,
   "metadata": {},
   "outputs": [
    {
     "name": "stdout",
     "output_type": "stream",
     "text": [
      "no es multiplo de 2\n",
      "si es multiplo de 2\n",
      "no es multiplo de 2\n",
      "si es multiplo de 2\n",
      "no es multiplo de 2\n",
      "si es multiplo de 2\n",
      "no es multiplo de 2\n",
      "si es multiplo de 2\n",
      "no es multiplo de 2\n",
      "si es multiplo de 2\n"
     ]
    }
   ],
   "source": [
    "for a in range(10) :\n",
    "  if(a%2):\n",
    "    print(\"si es multiplo de 2\") #Use esta función para imprimir el primer mensaje\n",
    "  else: \n",
    "    print(\"no es multiplo de 2\") #Use esta función para imprimir el segundo mensaje"
   ]
  }
 ],
 "metadata": {
  "kernelspec": {
   "display_name": "Python 3",
   "language": "python",
   "name": "python3"
  },
  "language_info": {
   "codemirror_mode": {
    "name": "ipython",
    "version": 3
   },
   "file_extension": ".py",
   "mimetype": "text/x-python",
   "name": "python",
   "nbconvert_exporter": "python",
   "pygments_lexer": "ipython3",
   "version": "3.12.1"
  }
 },
 "nbformat": 4,
 "nbformat_minor": 2
}
