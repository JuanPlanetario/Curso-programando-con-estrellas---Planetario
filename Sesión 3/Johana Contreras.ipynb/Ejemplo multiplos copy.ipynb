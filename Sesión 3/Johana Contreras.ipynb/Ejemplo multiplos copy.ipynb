{
 "cells": [
  {
   "cell_type": "code",
   "execution_count": null,
   "metadata": {},
   "outputs": [],
   "source": [
    "a =   #Defina la variable con el número que va a determinar si es múltiplo de 2\n",
    "b =   #Defina la variable que va a tener el residuo entre el número a y el número 2\n",
    "\n",
    "if %  =  : #Complete según la primera condición\n",
    "  print() #Use esta función para imprimir el primer mensaje\n",
    "else : #Complete según la segunda condición\n",
    "  print() #Use esta función para imprimir el segundo mensaje\n",
    "\n",
    "#Compile el código"
   ]
  },
  {
   "cell_type": "code",
   "execution_count": 1,
   "metadata": {},
   "outputs": [
    {
     "name": "stdout",
     "output_type": "stream",
     "text": [
      "10 es múltiplo de 2\n"
     ]
    }
   ],
   "source": [
    "a = 10  # Define la variable con el número que va a determinar si es múltiplo de 2\n",
    "b = a % 2  # Define la variable que va a tener el residuo entre el número a y el número 2\n",
    "\n",
    "if b == 0:  # Verifica si el residuo es 0, lo que significa que es múltiplo de 2\n",
    "    print(f\"{a} es múltiplo de 2\")  # Imprime el mensaje si es múltiplo de 2\n",
    "else:  # Si no es múltiplo de 2\n",
    "    print(f\"{a} no es múltiplo de 2\")  # Imprime el mensaje si no es múltiplo de 2"
   ]
  },
  {
   "cell_type": "code",
   "execution_count": 2,
   "metadata": {},
   "outputs": [
    {
     "name": "stdout",
     "output_type": "stream",
     "text": [
      "0\n",
      "1\n",
      "2\n",
      "3\n",
      "4\n",
      "5\n",
      "6\n",
      "7\n",
      "8\n",
      "9\n"
     ]
    }
   ],
   "source": [
    "x = 0 \n",
    "\n",
    "while 1: \n",
    "    print(x)\n",
    "    x = x + 1\n",
    "\n",
    "    if (x==10):\n",
    "        break "
   ]
  },
  {
   "cell_type": "code",
   "execution_count": 4,
   "metadata": {},
   "outputs": [],
   "source": [
    "def curso (argumento):\n",
    "    resultado = \"programando con estrellas\"\n",
    "    return \"resultado\""
   ]
  },
  {
   "cell_type": "code",
   "execution_count": 5,
   "metadata": {},
   "outputs": [
    {
     "name": "stdout",
     "output_type": "stream",
     "text": [
      "resultado resultado resultado\n"
     ]
    }
   ],
   "source": [
    "a = curso (3)\n",
    "b = curso(\"hubble\")\n",
    "c = curso (300000.0)\n",
    "\n",
    "print (a,b,c)"
   ]
  },
  {
   "cell_type": "code",
   "execution_count": 6,
   "metadata": {},
   "outputs": [],
   "source": [
    "def cuadrado (a):\n",
    "    resultado = a*a \n",
    "    return resultado "
   ]
  },
  {
   "cell_type": "code",
   "execution_count": 7,
   "metadata": {},
   "outputs": [
    {
     "data": {
      "text/plain": [
       "64"
      ]
     },
     "execution_count": 7,
     "metadata": {},
     "output_type": "execute_result"
    }
   ],
   "source": [
    "cuadrado (8)\n"
   ]
  },
  {
   "cell_type": "code",
   "execution_count": 8,
   "metadata": {},
   "outputs": [],
   "source": [
    "def potencia (x,y):\n",
    "    return x ** y\n"
   ]
  },
  {
   "cell_type": "code",
   "execution_count": 9,
   "metadata": {},
   "outputs": [
    {
     "data": {
      "text/plain": [
       "8"
      ]
     },
     "execution_count": 9,
     "metadata": {},
     "output_type": "execute_result"
    }
   ],
   "source": [
    "potencia (2,3)\n"
   ]
  },
  {
   "cell_type": "code",
   "execution_count": 10,
   "metadata": {},
   "outputs": [],
   "source": [
    "def potencia_2 (x, y=2):\n",
    "    return x ** y\n"
   ]
  },
  {
   "cell_type": "code",
   "execution_count": 12,
   "metadata": {},
   "outputs": [
    {
     "data": {
      "text/plain": [
       "9"
      ]
     },
     "execution_count": 12,
     "metadata": {},
     "output_type": "execute_result"
    }
   ],
   "source": [
    "potencia_2(3)\n",
    "\n"
   ]
  },
  {
   "cell_type": "code",
   "execution_count": 13,
   "metadata": {},
   "outputs": [
    {
     "data": {
      "text/plain": [
       "81"
      ]
     },
     "execution_count": 13,
     "metadata": {},
     "output_type": "execute_result"
    }
   ],
   "source": [
    "potencia_2 (3,4)\n"
   ]
  },
  {
   "cell_type": "code",
   "execution_count": null,
   "metadata": {},
   "outputs": [],
   "source": []
  }
 ],
 "metadata": {
  "kernelspec": {
   "display_name": "Python 3",
   "language": "python",
   "name": "python3"
  },
  "language_info": {
   "codemirror_mode": {
    "name": "ipython",
    "version": 3
   },
   "file_extension": ".py",
   "mimetype": "text/x-python",
   "name": "python",
   "nbconvert_exporter": "python",
   "pygments_lexer": "ipython3",
   "version": "3.12.1"
  }
 },
 "nbformat": 4,
 "nbformat_minor": 2
}
