{
 "cells": [
  {
   "cell_type": "code",
   "execution_count": null,
   "metadata": {},
   "outputs": [],
   "source": [
    "x= 10\n",
    "y=  x % 2\n",
    "if(y==0):\n",
    "    print( x , \" es multiplo de 2\")\n",
    "else:\n",
    "    print(x, \"no es multiplo de 2\")"
   ]
  }
 ],
 "metadata": {
  "language_info": {
   "name": "python"
  }
 },
 "nbformat": 4,
 "nbformat_minor": 2
}
