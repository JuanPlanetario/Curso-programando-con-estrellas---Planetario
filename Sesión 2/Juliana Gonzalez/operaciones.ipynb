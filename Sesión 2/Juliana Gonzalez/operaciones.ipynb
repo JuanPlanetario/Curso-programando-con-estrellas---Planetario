{
 "cells": [
  {
   "cell_type": "markdown",
   "metadata": {},
   "source": [
    "## multiplo de dos ##"
   ]
  },
  {
   "cell_type": "code",
   "execution_count": null,
   "metadata": {},
   "outputs": [],
   "source": [
    "x= 10\n",
    "y=  x % 2\n",
    "if(y==0):\n",
    "    print( x , \" es multiplo de 2\")\n",
    "else:\n",
    "    print(x, \"no es multiplo de 2\")"
   ]
  },
  {
   "cell_type": "markdown",
   "metadata": {},
   "source": [
    "## Serie de Fibonacci ##"
   ]
  },
  {
   "cell_type": "code",
   "execution_count": null,
   "metadata": {},
   "outputs": [],
   "source": [
    "# usando while\n",
    "fn_2=0\n",
    "fn_1=1\n",
    "fn=0\n",
    "index=20\n",
    "iter= index-2\n",
    "temp=1\n",
    "print(\" Los primeros \", index, \"terminos de la sucesion de Fibonacci son:\")\n",
    "print(fn_2)\n",
    "print(fn_1)\n",
    "\n",
    "while(temp <= iter):\n",
    "    fn= fn_1 + fn_2\n",
    "    print(fn)\n",
    "    fn_2= fn_1\n",
    "    fn_1=fn\n",
    "    temp=temp+1"
   ]
  },
  {
   "cell_type": "code",
   "execution_count": null,
   "metadata": {},
   "outputs": [],
   "source": [
    "#usando for\n",
    "fn_2=0\n",
    "fn_1=1\n",
    "fn=0\n",
    "index=20\n",
    "iter= index-2\n",
    "print(\" Los primeros \", index, \"terminos de la sucesion de Fibonacci son:\")\n",
    "print(fn_2)\n",
    "print(fn_1)\n",
    "\n",
    "for i in range(iter):\n",
    "\n",
    "    fn= fn_1 + fn_2\n",
    "    print(fn)\n",
    "    fn_2= fn_1\n",
    "    fn_1=fn"
   ]
  },
  {
   "cell_type": "markdown",
   "metadata": {},
   "source": [
    "## Masa de los Planetas ##"
   ]
  },
  {
   "cell_type": "code",
   "execution_count": 22,
   "metadata": {},
   "outputs": [
    {
     "name": "stdout",
     "output_type": "stream",
     "text": [
      " Orden de los planetas del más masivo al menos masivo \n",
      "Júpiter  con  2e+27 kg\n",
      "Saturno  con  6e+26 kg\n",
      "Neptuno  con  1e+26 kg\n",
      "Urano  con  9e+25 kg\n",
      "Tierra  con  6e+24 kg\n",
      "Venus  con  5e+24 kg\n",
      "Marte  con  6e+23 kg\n",
      "Mercurio  con  3e+23 kg\n"
     ]
    }
   ],
   "source": [
    "masas = [3e23, 5e24, 6e24, 6e23, 2e27, 6e26, 9e25, 1e26]\n",
    "planetas = [\"Mercurio\", \"Venus\", \"Tierra\", \"Marte\", \"Júpiter\", \"Saturno\", \"Urano\", \"Neptuno\"]\n",
    "num= masas[0]\n",
    "pla=\"nulo\"\n",
    "rangoo=len(masas)\n",
    "print(\" Orden de los planetas del más masivo al menos masivo \")         \n",
    "for j in range(0,8):\n",
    "    \n",
    "    for i in range(rangoo):\n",
    "        if(masas[i]>num):\n",
    "            num=masas[i]\n",
    "                           \n",
    "    for k  in range(0,rangoo):\n",
    "        if(num==masas[k]):\n",
    "            del masas[k]\n",
    "            pla=planetas[k]\n",
    "            del planetas[k]\n",
    "            rangoo= rangoo-1\n",
    "            print(pla,\" con \",num , \"kg\")\n",
    "            if rangoo!=0:\n",
    "                num=masas[0]\n",
    "            break \n",
    "        \n",
    "      \n",
    "      \n"
   ]
  },
  {
   "cell_type": "markdown",
   "metadata": {},
   "source": [
    "## Triangulo de Simbolos ##"
   ]
  },
  {
   "cell_type": "code",
   "execution_count": 10,
   "metadata": {},
   "outputs": [
    {
     "name": "stdout",
     "output_type": "stream",
     "text": [
      "*\n",
      "**\n",
      "***\n",
      "****\n",
      "*****\n",
      "******\n",
      "*****\n",
      "****\n",
      "***\n",
      "**\n",
      "*\n"
     ]
    }
   ],
   "source": [
    "var_str=\"*\"\n",
    "temp1=1\n",
    "\n",
    "while(temp1<7):\n",
    "    m_str=temp1*var_str\n",
    "    print(m_str)\n",
    "    temp1=temp1+1\n",
    "\n",
    "while(temp1<12):\n",
    "    m_str=(12-temp1)*var_str\n",
    "    print(m_str)\n",
    "    temp1=temp1+1"
   ]
  },
  {
   "cell_type": "code",
   "execution_count": 6,
   "metadata": {},
   "outputs": [
    {
     "name": "stdout",
     "output_type": "stream",
     "text": [
      "*\n",
      "**\n",
      "***\n",
      "****\n",
      "*****\n",
      "******\n",
      "*****\n",
      "****\n",
      "***\n",
      "**\n",
      "*\n"
     ]
    }
   ],
   "source": [
    "var_str=\"*\"\n",
    "\n",
    "for i in range(1,12):\n",
    "    if(i<7):\n",
    "        m_str=i*var_str\n",
    "        print(m_str)\n",
    "    if(i>=7):\n",
    "        m_str=(12-i)*var_str\n",
    "        print(m_str)"
   ]
  },
  {
   "cell_type": "markdown",
   "metadata": {},
   "source": [
    "## Triangulo de Pascal ##"
   ]
  },
  {
   "cell_type": "code",
   "execution_count": 59,
   "metadata": {},
   "outputs": [
    {
     "name": "stdout",
     "output_type": "stream",
     "text": [
      "[0, 0, 0, 0, 1, 0, 0, 0, 0]\n",
      "[0, 0, 0, 1, 0, 1, 0, 0, 0]\n",
      "[0, 0, 1, 0, 0, 0, 1, 0, 0]\n",
      "[0, 1, 0, 0, 0, 0, 0, 1, 0]\n",
      "[1, 0, 0, 0, 0, 0, 0, 0, 1]\n"
     ]
    }
   ],
   "source": [
    "#entrada= int(input(\"ingrese el número de filas que quiere imprimir del triangulo de pascal\"))\n",
    "entrada=5\n",
    "list_temp=[]\n",
    "pascal=0\n",
    "contador=1\n",
    "for i in range(1,entrada+1):\n",
    "    temp=True\n",
    "    while temp:\n",
    "        for j in range(0,entrada+(entrada-1)):  \n",
    "            list_temp.append(0)\n",
    "        if contador==1:\n",
    "            list_temp[entrada-1]=1\n",
    "        elif(contador==2):\n",
    "            list_temp[entrada-2]=1\n",
    "            list_temp[entrada]=1\n",
    "        elif(contador==3):\n",
    "            list_temp[entrada-3]=1\n",
    "            list_temp[entrada+1]=1\n",
    "        elif(contador==4):\n",
    "            list_temp[entrada-4]=1\n",
    "            list_temp[entrada+2]=1\n",
    "        elif(contador==5):\n",
    "            list_temp[entrada-5]=1\n",
    "            list_temp[entrada+3]=1\n",
    "\n",
    "\n",
    "        contador=contador+1\n",
    "        temp=False\n",
    "        print(list_temp)\n",
    "        list_temp=[]\n",
    "    \n"
   ]
  },
  {
   "cell_type": "code",
   "execution_count": null,
   "metadata": {},
   "outputs": [],
   "source": []
  }
 ],
 "metadata": {
  "kernelspec": {
   "display_name": "Python 3",
   "language": "python",
   "name": "python3"
  },
  "language_info": {
   "codemirror_mode": {
    "name": "ipython",
    "version": 3
   },
   "file_extension": ".py",
   "mimetype": "text/x-python",
   "name": "python",
   "nbconvert_exporter": "python",
   "pygments_lexer": "ipython3",
   "version": "3.12.1"
  }
 },
 "nbformat": 4,
 "nbformat_minor": 2
}
