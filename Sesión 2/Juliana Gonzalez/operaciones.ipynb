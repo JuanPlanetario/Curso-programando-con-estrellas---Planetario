{
 "cells": [
  {
   "cell_type": "markdown",
   "metadata": {},
   "source": [
    "## multiplo de dos ##"
   ]
  },
  {
   "cell_type": "code",
   "execution_count": null,
   "metadata": {},
   "outputs": [],
   "source": [
    "x= 10\n",
    "y=  x % 2\n",
    "if(y==0):\n",
    "    print( x , \" es multiplo de 2\")\n",
    "else:\n",
    "    print(x, \"no es multiplo de 2\")"
   ]
  },
  {
   "cell_type": "markdown",
   "metadata": {},
   "source": [
    "## Serie de Fibonacci ##"
   ]
  },
  {
   "cell_type": "code",
   "execution_count": null,
   "metadata": {},
   "outputs": [],
   "source": [
    "# usando while\n",
    "fn_2=0\n",
    "fn_1=1\n",
    "fn=0\n",
    "index=20\n",
    "iter= index-2\n",
    "temp=1\n",
    "print(\" Los primeros \", index, \"terminos de la sucesion de Fibonacci son:\")\n",
    "print(fn_2)\n",
    "print(fn_1)\n",
    "\n",
    "while(temp <= iter):\n",
    "    fn= fn_1 + fn_2\n",
    "    print(fn)\n",
    "    fn_2= fn_1\n",
    "    fn_1=fn\n",
    "    temp=temp+1"
   ]
  },
  {
   "cell_type": "code",
   "execution_count": null,
   "metadata": {},
   "outputs": [],
   "source": [
    "#usando for\n",
    "fn_2=0\n",
    "fn_1=1\n",
    "fn=0\n",
    "index=20\n",
    "iter= index-2\n",
    "print(\" Los primeros \", index, \"terminos de la sucesion de Fibonacci son:\")\n",
    "print(fn_2)\n",
    "print(fn_1)\n",
    "\n",
    "for i in range(iter):\n",
    "\n",
    "    fn= fn_1 + fn_2\n",
    "    print(fn)\n",
    "    fn_2= fn_1\n",
    "    fn_1=fn"
   ]
  },
  {
   "cell_type": "markdown",
   "metadata": {},
   "source": [
    "## Masa de los Planetas ##"
   ]
  },
  {
   "cell_type": "code",
   "execution_count": 22,
   "metadata": {},
   "outputs": [
    {
     "name": "stdout",
     "output_type": "stream",
     "text": [
      " Orden de los planetas del más masivo al menos masivo \n",
      "Júpiter  con  2e+27 kg\n",
      "Saturno  con  6e+26 kg\n",
      "Neptuno  con  1e+26 kg\n",
      "Urano  con  9e+25 kg\n",
      "Tierra  con  6e+24 kg\n",
      "Venus  con  5e+24 kg\n",
      "Marte  con  6e+23 kg\n",
      "Mercurio  con  3e+23 kg\n"
     ]
    }
   ],
   "source": [
    "masas = [3e23, 5e24, 6e24, 6e23, 2e27, 6e26, 9e25, 1e26]\n",
    "planetas = [\"Mercurio\", \"Venus\", \"Tierra\", \"Marte\", \"Júpiter\", \"Saturno\", \"Urano\", \"Neptuno\"]\n",
    "num= masas[0]\n",
    "pla=\"nulo\"\n",
    "rangoo=len(masas)\n",
    "print(\" Orden de los planetas del más masivo al menos masivo \")         \n",
    "for j in range(0,8):\n",
    "    \n",
    "    for i in range(rangoo):\n",
    "        if(masas[i]>num):\n",
    "            num=masas[i]\n",
    "                           \n",
    "    for k  in range(0,rangoo):\n",
    "        if(num==masas[k]):\n",
    "            del masas[k]\n",
    "            pla=planetas[k]\n",
    "            del planetas[k]\n",
    "            rangoo= rangoo-1\n",
    "            print(pla,\" con \",num , \"kg\")\n",
    "            if rangoo!=0:\n",
    "                num=masas[0]\n",
    "            break \n",
    "        \n",
    "      \n",
    "      \n"
   ]
  },
  {
   "cell_type": "markdown",
   "metadata": {},
   "source": [
    "## Triangulo de Simbolos ##"
   ]
  },
  {
   "cell_type": "code",
   "execution_count": 10,
   "metadata": {},
   "outputs": [
    {
     "name": "stdout",
     "output_type": "stream",
     "text": [
      "*\n",
      "**\n",
      "***\n",
      "****\n",
      "*****\n",
      "******\n",
      "*****\n",
      "****\n",
      "***\n",
      "**\n",
      "*\n"
     ]
    }
   ],
   "source": [
    "var_str=\"*\"\n",
    "temp1=1\n",
    "\n",
    "while(temp1<7):\n",
    "    m_str=temp1*var_str\n",
    "    print(m_str)\n",
    "    temp1=temp1+1\n",
    "\n",
    "while(temp1<12):\n",
    "    m_str=(12-temp1)*var_str\n",
    "    print(m_str)\n",
    "    temp1=temp1+1"
   ]
  },
  {
   "cell_type": "code",
   "execution_count": 6,
   "metadata": {},
   "outputs": [
    {
     "name": "stdout",
     "output_type": "stream",
     "text": [
      "*\n",
      "**\n",
      "***\n",
      "****\n",
      "*****\n",
      "******\n",
      "*****\n",
      "****\n",
      "***\n",
      "**\n",
      "*\n"
     ]
    }
   ],
   "source": [
    "var_str=\"*\"\n",
    "\n",
    "for i in range(1,12):\n",
    "    if(i<7):\n",
    "        m_str=i*var_str\n",
    "        print(m_str)\n",
    "    if(i>=7):\n",
    "        m_str=(12-i)*var_str\n",
    "        print(m_str)"
   ]
  },
  {
   "cell_type": "markdown",
   "metadata": {},
   "source": [
    "## Triangulo de Pascal ##"
   ]
  },
  {
   "cell_type": "code",
   "execution_count": 176,
   "metadata": {},
   "outputs": [
    {
     "name": "stdout",
     "output_type": "stream",
     "text": [
      "[0, 0, 0, 0, 0, 1, 0, 0, 0, 0, 0]\n",
      "[0, 0, 0, 0, 1, 0, 1, 0, 0, 0, 0]\n",
      "[0, 0, 0, 1, 0, 2, 0, 1, 0, 0, 0]\n",
      "[0, 0, 1, 0, 3, 0, 3, 0, 1, 0, 0]\n",
      "[0, 1, 0, 4, 0, 6, 0, 4, 0, 1, 0]\n",
      "[1, 0, 5, 0, 10, 0, 10, 0, 5, 0, 1]\n"
     ]
    }
   ],
   "source": [
    "entrada=int(input(\"ingreseel número de filas que quiere ver del triángulo de Pascal\"))\n",
    "lista_temp=[]\n",
    "j=0\n",
    "l1=1\n",
    "l2=1\n",
    "#print(lista_inicial)\n",
    "for i in range(0,entrada):\n",
    "    lista_temp0=lista_temp\n",
    "    lista_temp=[0]*(2*entrada-1)\n",
    "    #print(lista_temp)\n",
    "    lista_temp[entrada-1-j]=1\n",
    "    lista_temp[entrada-1+j]=1\n",
    "\n",
    "    #print(lista_temp0)\n",
    "    if (i>1) and ((l1)<=((entrada//2)+1)):\n",
    "        if (i%2==0):\n",
    "            if (l1==((entrada//2)+1)):\n",
    "                 l1=(entrada//2)\n",
    "            if (l2==((entrada//2)+1)):\n",
    "                 l2=(entrada//2)\n",
    "\n",
    "            for k in range(0,l1):\n",
    "                if(k==0):\n",
    "                    lista_temp[entrada+(2*k-1)]=lista_temp0[entrada+(2*k)]+lista_temp0[entrada-(2*(k+1))]\n",
    "                else:                \n",
    "                    lista_temp[entrada+(2*k-1)]=lista_temp0[entrada+(2*k)]+lista_temp0[entrada+(2*(k-1))]                  \n",
    "                    lista_temp[entrada-(2*k+1)]=lista_temp0[entrada-(2*(k))]+lista_temp0[entrada-(2*(k+1))]\n",
    "\n",
    "                \n",
    "        else:\n",
    "            if (l1==((entrada//2)+1)):\n",
    "                 l1=(entrada//2)\n",
    "            if (l2==((entrada//2)+1)):\n",
    "                 l2=(entrada//2)\n",
    "            \n",
    "            for k in range(0,l2):\n",
    "                    lista_temp[entrada+(2*k)]=lista_temp0[entrada+(2*k-1)]+lista_temp0[entrada+(2*(k+1)-1)]\n",
    "                    lista_temp[entrada-(2*(k+1))]= lista_temp0[entrada-(2*k+1)]+lista_temp0[entrada-(2*(k+1)+1)]                    \n",
    "            \n",
    "            l2=l2+1 \n",
    "        l1=l1+1\n",
    "        \n",
    "    j=j+1\n",
    "    print(lista_temp)\n"
   ]
  }
 ],
 "metadata": {
  "kernelspec": {
   "display_name": "Python 3",
   "language": "python",
   "name": "python3"
  },
  "language_info": {
   "codemirror_mode": {
    "name": "ipython",
    "version": 3
   },
   "file_extension": ".py",
   "mimetype": "text/x-python",
   "name": "python",
   "nbconvert_exporter": "python",
   "pygments_lexer": "ipython3",
   "version": "3.12.1"
  }
 },
 "nbformat": 4,
 "nbformat_minor": 2
}
