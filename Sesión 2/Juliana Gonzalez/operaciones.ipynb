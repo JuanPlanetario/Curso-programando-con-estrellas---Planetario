{
 "cells": [
  {
   "cell_type": "markdown",
   "metadata": {},
   "source": [
    "## multiplo de dos ##"
   ]
  },
  {
   "cell_type": "code",
   "execution_count": null,
   "metadata": {},
   "outputs": [],
   "source": [
    "x= 10\n",
    "y=  x % 2\n",
    "if(y==0):\n",
    "    print( x , \" es multiplo de 2\")\n",
    "else:\n",
    "    print(x, \"no es multiplo de 2\")"
   ]
  },
  {
   "cell_type": "markdown",
   "metadata": {},
   "source": [
    "## Serie de Fibonacci ##"
   ]
  },
  {
   "cell_type": "code",
   "execution_count": 2,
   "metadata": {},
   "outputs": [
    {
     "name": "stdout",
     "output_type": "stream",
     "text": [
      " Los primeros  20 terminos de la sucesion de Fibonacci son:\n",
      "0\n",
      "1\n",
      "1\n",
      "2\n",
      "3\n",
      "5\n",
      "8\n",
      "13\n",
      "21\n",
      "34\n",
      "55\n",
      "89\n",
      "144\n",
      "233\n",
      "377\n",
      "610\n",
      "987\n",
      "1597\n",
      "2584\n",
      "4181\n"
     ]
    }
   ],
   "source": [
    "fn_2=0\n",
    "fn_1=1\n",
    "fn=0\n",
    "index=20\n",
    "iter= index-2\n",
    "temp=1\n",
    "print(\" Los primeros \", index, \"terminos de la sucesion de Fibonacci son:\")\n",
    "print(fn_2)\n",
    "print(fn_1)\n",
    "\n",
    "while(temp <= iter):\n",
    "    fn= fn_1 + fn_2\n",
    "    print(fn)\n",
    "    fn_2= fn_1\n",
    "    fn_1=fn\n",
    "    temp=temp+1"
   ]
  },
  {
   "cell_type": "code",
   "execution_count": 1,
   "metadata": {},
   "outputs": [
    {
     "name": "stdout",
     "output_type": "stream",
     "text": [
      " Los primeros  20 terminos de la sucesion de Fibonacci son:\n",
      "0\n",
      "1\n",
      "1\n",
      "2\n",
      "3\n",
      "5\n",
      "8\n",
      "13\n",
      "21\n",
      "34\n",
      "55\n",
      "89\n",
      "144\n",
      "233\n",
      "377\n",
      "610\n",
      "987\n",
      "1597\n",
      "2584\n",
      "4181\n"
     ]
    }
   ],
   "source": [
    "fn_2=0\n",
    "fn_1=1\n",
    "fn=0\n",
    "index=20\n",
    "iter= index-2\n",
    "print(\" Los primeros \", index, \"terminos de la sucesion de Fibonacci son:\")\n",
    "print(fn_2)\n",
    "print(fn_1)\n",
    "\n",
    "for i in range(iter):\n",
    "\n",
    "    fn= fn_1 + fn_2\n",
    "    print(fn)\n",
    "    fn_2= fn_1\n",
    "    fn_1=fn"
   ]
  },
  {
   "cell_type": "markdown",
   "metadata": {},
   "source": [
    "## Masa de los Planetas ##"
   ]
  },
  {
   "cell_type": "code",
   "execution_count": 4,
   "metadata": {},
   "outputs": [
    {
     "name": "stdout",
     "output_type": "stream",
     "text": [
      "3.3e+23\n"
     ]
    },
    {
     "data": {
      "text/plain": [
       "float"
      ]
     },
     "execution_count": 4,
     "metadata": {},
     "output_type": "execute_result"
    }
   ],
   "source": [
    "mer=3.30e23\n",
    "ven= 4.87e24 \n",
    "tie= 5.97e24 \n",
    "mar=6.42e23 \n",
    "jup=1.90e27\n",
    "sat=5.68e26\n",
    "ura=8.68e25\n",
    "nep=1.02e26"
   ]
  },
  {
   "cell_type": "markdown",
   "metadata": {},
   "source": [
    "## Triangulo de Simbolos ##"
   ]
  },
  {
   "cell_type": "code",
   "execution_count": 10,
   "metadata": {},
   "outputs": [
    {
     "name": "stdout",
     "output_type": "stream",
     "text": [
      "*\n",
      "**\n",
      "***\n",
      "****\n",
      "*****\n",
      "******\n",
      "*****\n",
      "****\n",
      "***\n",
      "**\n",
      "*\n"
     ]
    }
   ],
   "source": [
    "var_str=\"*\"\n",
    "temp1=1\n",
    "\n",
    "while(temp1<7):\n",
    "    m_str=temp1*var_str\n",
    "    print(m_str)\n",
    "    temp1=temp1+1\n",
    "\n",
    "while(temp1<12):\n",
    "    m_str=(12-temp1)*var_str\n",
    "    print(m_str)\n",
    "    temp1=temp1+1"
   ]
  },
  {
   "cell_type": "code",
   "execution_count": 6,
   "metadata": {},
   "outputs": [
    {
     "name": "stdout",
     "output_type": "stream",
     "text": [
      "*\n",
      "**\n",
      "***\n",
      "****\n",
      "*****\n",
      "******\n",
      "*****\n",
      "****\n",
      "***\n",
      "**\n",
      "*\n"
     ]
    }
   ],
   "source": [
    "var_str=\"*\"\n",
    "\n",
    "for i in range(1,12):\n",
    "    if(i<7):\n",
    "        m_str=i*var_str\n",
    "        print(m_str)\n",
    "    if(i>=7):\n",
    "        m_str=(12-i)*var_str\n",
    "        print(m_str)"
   ]
  },
  {
   "cell_type": "markdown",
   "metadata": {},
   "source": [
    "## Triangulo de Pascal ##"
   ]
  },
  {
   "cell_type": "code",
   "execution_count": null,
   "metadata": {},
   "outputs": [],
   "source": []
  },
  {
   "cell_type": "markdown",
   "metadata": {},
   "source": []
  }
 ],
 "metadata": {
  "kernelspec": {
   "display_name": "Python 3",
   "language": "python",
   "name": "python3"
  },
  "language_info": {
   "codemirror_mode": {
    "name": "ipython",
    "version": 3
   },
   "file_extension": ".py",
   "mimetype": "text/x-python",
   "name": "python",
   "nbconvert_exporter": "python",
   "pygments_lexer": "ipython3",
   "version": "3.12.1"
  }
 },
 "nbformat": 4,
 "nbformat_minor": 2
}
