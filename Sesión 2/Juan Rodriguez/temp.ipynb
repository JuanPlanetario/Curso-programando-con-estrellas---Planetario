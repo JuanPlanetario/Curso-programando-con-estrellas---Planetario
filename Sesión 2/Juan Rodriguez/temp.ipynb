{
 "cells": [
  {
   "cell_type": "code",
   "execution_count": 27,
   "metadata": {},
   "outputs": [
    {
     "name": "stdout",
     "output_type": "stream",
     "text": [
      "3 no es múltiplo de 2 porque su residuo es 1\n"
     ]
    }
   ],
   "source": [
    "d = 3\n",
    "a = d % 2 #Defina la variable con el número que va a determinar si es múltiplo de 2\n",
    " #Defina la variable que va a tener el residuo entre el número a y el número 2\n",
    "'''\n",
    "if: a == 0\n",
    " print(\"multiplo de 2\") #Use esta función para imprimir el primer mensaje\n",
    "else:#Complete según la segunda condición\n",
    " print(\"no es multiplo de 2\") #Use esta función para imprimir el segundo mensaje\n",
    "'''\n",
    "print(f\"{d} no es múltiplo de 2 porque su residuo es {a}\")\n",
    "#Compile el código"
   ]
  },
  {
   "cell_type": "code",
   "execution_count": 25,
   "metadata": {},
   "outputs": [
    {
     "data": {
      "text/plain": [
       "2"
      ]
     },
     "execution_count": 25,
     "metadata": {},
     "output_type": "execute_result"
    }
   ],
   "source": [
    "a = 5 % 2\n",
    "b = 5//2\n",
    "b"
   ]
  }
 ],
 "metadata": {
  "kernelspec": {
   "display_name": "Python 3",
   "language": "python",
   "name": "python3"
  },
  "language_info": {
   "codemirror_mode": {
    "name": "ipython",
    "version": 3
   },
   "file_extension": ".py",
   "mimetype": "text/x-python",
   "name": "python",
   "nbconvert_exporter": "python",
   "pygments_lexer": "ipython3",
   "version": "3.12.1"
  }
 },
 "nbformat": 4,
 "nbformat_minor": 2
}
