{
 "cells": [
  {
   "cell_type": "code",
   "execution_count": 16,
   "metadata": {},
   "outputs": [
    {
     "name": "stdout",
     "output_type": "stream",
     "text": [
      "Mercurio Marte Venus Tierra Urano Neptuno Saturno Júpiter\n"
     ]
    }
   ],
   "source": [
    "planetas = [\"Mercurio\", \"Venus\", \"Tierra\", \"Marte\", \"Júpiter\", \"Saturno\", \"Urano\", \"Neptuno\"]\n",
    "masas = [3e23, 5e24, 6e24, 6e23, 2e27, 6e26, 9e25, 1e26]\n",
    "print(planetas[0],planetas[3],planetas[1],planetas[2],planetas[6],planetas[7],planetas[5],planetas[4])"
   ]
  },
  {
   "cell_type": "code",
   "execution_count": 17,
   "metadata": {},
   "outputs": [
    {
     "name": "stdout",
     "output_type": "stream",
     "text": [
      "\n",
      "*      \n",
      "**\n",
      "***\n",
      "****\n",
      "*****\n",
      "******\n",
      "*****\n",
      "****\n",
      "***\n",
      "**\n",
      "*            \n",
      "      \n"
     ]
    }
   ],
   "source": [
    "print('''\n",
    "*      \n",
    "**\n",
    "***\n",
    "****\n",
    "*****\n",
    "******\n",
    "*****\n",
    "****\n",
    "***\n",
    "**\n",
    "*            \n",
    "      ''')"
   ]
  }
 ],
 "metadata": {
  "kernelspec": {
   "display_name": "Python 3",
   "language": "python",
   "name": "python3"
  },
  "language_info": {
   "codemirror_mode": {
    "name": "ipython",
    "version": 3
   },
   "file_extension": ".py",
   "mimetype": "text/x-python",
   "name": "python",
   "nbconvert_exporter": "python",
   "pygments_lexer": "ipython3",
   "version": "3.12.1"
  }
 },
 "nbformat": 4,
 "nbformat_minor": 2
}
