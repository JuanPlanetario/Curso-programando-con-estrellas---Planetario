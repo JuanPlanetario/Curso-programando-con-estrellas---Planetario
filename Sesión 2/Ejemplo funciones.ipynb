{
 "cells": [
  {
   "cell_type": "code",
   "execution_count": null,
   "metadata": {},
   "outputs": [],
   "source": [
    "a =   #Defina la variable con el número que va a determinar si es múltiplo de 2\n",
    "b =   #Defina la variable que va a tener el residuo entre el número a y el número 2\n",
    "\n",
    "if %  =  : #Complete según la primera condición\n",
    "  print() #Use esta función para imprimir el primer mensaje\n",
    "else %  =  : #Complete según la segunda condición\n",
    "  print() #Use esta función para imprimir el segundo mensaje\n",
    "\n",
    "#Compile el código\n"
   ]
  }
 ],
 "metadata": {
  "language_info": {
   "name": "python"
  }
 },
 "nbformat": 4,
 "nbformat_minor": 2
}
