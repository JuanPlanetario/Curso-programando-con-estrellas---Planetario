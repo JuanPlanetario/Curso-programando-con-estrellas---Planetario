{
 "cells": [
  {
   "cell_type": "code",
   "execution_count": 2,
   "metadata": {},
   "outputs": [
    {
     "name": "stdout",
     "output_type": "stream",
     "text": [
      "No es múltiplo de 2\n"
     ]
    }
   ],
   "source": [
    "numero = int(input(\"Introduce un número: \"))\n",
    "if numero % 2 == 0:\n",
    "    print(\"Es múltiplo de 2\")\n",
    "else:\n",
    "    print(\"No es múltiplo de 2\")"
   ]
  },
  {
   "cell_type": "code",
   "execution_count": 17,
   "metadata": {},
   "outputs": [
    {
     "name": "stdout",
     "output_type": "stream",
     "text": [
      "1\n",
      "1\n",
      "2\n",
      "3\n",
      "5\n",
      "8\n",
      "13\n",
      "21\n",
      "34\n",
      "55\n",
      "89\n",
      "144\n",
      "233\n",
      "377\n",
      "610\n",
      "987\n",
      "1597\n",
      "2584\n",
      "4181\n",
      "6765\n",
      "10946\n",
      "17711\n"
     ]
    }
   ],
   "source": [
    "#CÓDIGO FIBONACCI**\n",
    "\n",
    "x=1\n",
    "y=1\n",
    "print (x)\n",
    "print (y)\n",
    "for _ in range (20):\n",
    "    Pisano= x + y\n",
    "    print (Pisano) \n",
    "    x = y\n",
    "    y = Pisano\n"
   ]
  },
  {
   "cell_type": "code",
   "execution_count": 18,
   "metadata": {},
   "outputs": [
    {
     "name": "stdout",
     "output_type": "stream",
     "text": [
      "Mercurio Marte Venus Tierra Urano Neptuno Saturno Júpiter\n"
     ]
    }
   ],
   "source": [
    "#CÓDIGO QUE RETORNE LOS NOMBRES DE LOS PLANETAS DEL SISTEMA SOLAR DE MÁS MASIVO A MENOS MASIVO\n",
    "\n",
    "planetas = [\"Mercurio\", \"Venus\", \"Tierra\", \"Marte\", \"Júpiter\", \"Saturno\", \"Urano\", \"Neptuno\"]\n",
    "masas = [3e23, 5e24, 6e24, 6e23, 2e27, 6e26, 9e25, 1e26]\n",
    "print(planetas[0],planetas[3],planetas[1],planetas[2],planetas[6],planetas[7],planetas[5],planetas[4])"
   ]
  }
 ],
 "metadata": {
  "kernelspec": {
   "display_name": "Python 3",
   "language": "python",
   "name": "python3"
  },
  "language_info": {
   "codemirror_mode": {
    "name": "ipython",
    "version": 3
   },
   "file_extension": ".py",
   "mimetype": "text/x-python",
   "name": "python",
   "nbconvert_exporter": "python",
   "pygments_lexer": "ipython3",
   "version": "3.12.1"
  }
 },
 "nbformat": 4,
 "nbformat_minor": 2
}
