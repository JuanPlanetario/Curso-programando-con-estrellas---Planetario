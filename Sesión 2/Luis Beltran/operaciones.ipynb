{
 "cells": [
  {
   "cell_type": "markdown",
   "metadata": {},
   "source": [
    "Reto de multiplo de 2"
   ]
  },
  {
   "cell_type": "code",
   "execution_count": null,
   "metadata": {},
   "outputs": [],
   "source": [
    "a=1\n",
    "b=2\n",
    "\n",
    "if a%b==0:\n",
    "    print(str(a)+\" es un número multiplo de \"+str(b))\n",
    "else:\n",
    "    print(str(a)+\" no es un número multiplo de \"+str(b))"
   ]
  },
  {
   "cell_type": "markdown",
   "metadata": {},
   "source": [
    "Reto fibonacci"
   ]
  },
  {
   "cell_type": "code",
   "execution_count": null,
   "metadata": {},
   "outputs": [],
   "source": [
    "cant_val=19\n",
    "fibonachi=[0,1]\n",
    "a=0\n",
    "b=1\n",
    "for n in range(1,cant_val):\n",
    "    m=a+b    \n",
    "    fibonachi.append(m)\n",
    "    a=b\n",
    "    b=m  \n",
    "print(fibonachi)"
   ]
  },
  {
   "cell_type": "markdown",
   "metadata": {},
   "source": [
    "Reto piramide de puntos"
   ]
  },
  {
   "cell_type": "code",
   "execution_count": null,
   "metadata": {},
   "outputs": [],
   "source": [
    "a=1\n",
    "b=1\n",
    "c=12\n",
    "for n in range(1,c):\n",
    "     \n",
    "    if b<=c/2:\n",
    "        print(\"*\"*a+\"\\n\")\n",
    "        a+=1\n",
    "        \n",
    "    else:\n",
    "        a-=2\n",
    "        print(\"*\"*a+\"\\n\")\n",
    "        a+=1\n",
    "    \n",
    "    b+=1"
   ]
  },
  {
   "cell_type": "markdown",
   "metadata": {},
   "source": [
    "Reto planetas"
   ]
  },
  {
   "cell_type": "code",
   "execution_count": 1,
   "metadata": {},
   "outputs": [],
   "source": [
    "planetas={\"Mercurio\":3.3,\"Venus\":48.7,\"Tierra\":59.7,\"Marte\":6.42,\"Jupiter\":19000.0,\"Saturno\":5680.0,\"Urano\":868.0,\"Neptuno\":1002.0}\n",
    "iteraciones=[planetas]\n",
    "planetas_2={}\n",
    "a=1\n",
    "for b in iteraciones:\n",
    "    for n in b:\n",
    "        for m in b:\n",
    "            if planetas[n] < planetas[m]:\n",
    "                nom_plat=m\n",
    "                peso_plat=planetas[m]\n",
    "                planetas_2.update({nom_plat:peso_plat})\n",
    "  "
   ]
  },
  {
   "cell_type": "code",
   "execution_count": null,
   "metadata": {},
   "outputs": [],
   "source": []
  },
  {
   "cell_type": "code",
   "execution_count": null,
   "metadata": {},
   "outputs": [],
   "source": []
  }
 ],
 "metadata": {
  "kernelspec": {
   "display_name": "Python 3",
   "language": "python",
   "name": "python3"
  },
  "language_info": {
   "codemirror_mode": {
    "name": "ipython",
    "version": 3
   },
   "file_extension": ".py",
   "mimetype": "text/x-python",
   "name": "python",
   "nbconvert_exporter": "python",
   "pygments_lexer": "ipython3",
   "version": "3.12.1"
  }
 },
 "nbformat": 4,
 "nbformat_minor": 2
}
