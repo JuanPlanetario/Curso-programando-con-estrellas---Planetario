{
 "cells": [
  {
   "cell_type": "code",
   "execution_count": null,
   "metadata": {},
   "outputs": [],
   "source": [
    "numero = int(input(\"Introduce un número: \"))\n",
    "if numero % 2 == 0:\n",
    "    print(\"Es múltiplo de 2\")\n",
    "else:\n",
    "    print(\"No es múltiplo de 2\")"
   ]
  }
 ],
 "metadata": {
  "language_info": {
   "name": "python"
  }
 },
 "nbformat": 4,
 "nbformat_minor": 2
}
