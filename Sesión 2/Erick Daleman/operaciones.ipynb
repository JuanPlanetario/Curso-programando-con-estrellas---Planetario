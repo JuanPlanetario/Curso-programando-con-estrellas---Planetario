{
 "cells": [
  {
   "cell_type": "code",
   "execution_count": 2,
   "metadata": {},
   "outputs": [
    {
     "name": "stdout",
     "output_type": "stream",
     "text": [
      "No es múltiplo de 2\n"
     ]
    }
   ],
   "source": [
    "numero = int(input(\"Introduce un número: \"))\n",
    "if numero % 2 == 0:\n",
    "    print(\"Es múltiplo de 2\")\n",
    "else:\n",
    "    print(\"No es múltiplo de 2\")"
   ]
  },
  {
   "cell_type": "markdown",
   "metadata": {},
   "source": [
    "los primeros 20 números de la serie de Fibonacci "
   ]
  },
  {
   "cell_type": "code",
   "execution_count": 2,
   "metadata": {},
   "outputs": [
    {
     "name": "stdout",
     "output_type": "stream",
     "text": [
      "0 1 2 4 8 16 32 64 128 256 512 1024 2048 4096 8192 16384 32768 65536 131072 262144 "
     ]
    }
   ],
   "source": [
    "a = 0\n",
    "b = 1\n",
    "print(a, b, end=\" \")\n",
    "for _ in range(18):  \n",
    "    a = b\n",
    "    b = a + b\n",
    "    print(b, end=\" \")"
   ]
  },
  {
   "cell_type": "markdown",
   "metadata": {},
   "source": [
    "**ESCRIBIR UN CÓDIGO QUE RETORNE LOS NOMBRES DE LOS PLANETAS DEL SISTEMA SOLAR DE MÁS MASIVO A MENOS MASIVO**"
   ]
  },
  {
   "cell_type": "code",
   "execution_count": null,
   "metadata": {},
   "outputs": [],
   "source": []
  },
  {
   "cell_type": "markdown",
   "metadata": {},
   "source": [
    "**3. HACER UN CÓDIGO QUE ESCRIBA LOS * DE ESTA FORMA**\n",
    "\n",
    "\\* <br>\n",
    "\\*\\* <br>\n",
    "\\*\\*\\* <br>\n",
    "\\*\\*\\*\\* <br>\n",
    "\\*\\*\\*\\*\\* <br>\n",
    "\\*\\*\\*\\*\\*\\* <br>\n",
    "\\*\\*\\*\\*\\* <br>\n",
    "\\*\\*\\*\\* <br>\n",
    "\\*\\*\\* <br>\n",
    "\\*\\* <br>\n",
    "\\* <br>"
   ]
  },
  {
   "cell_type": "code",
   "execution_count": 3,
   "metadata": {},
   "outputs": [
    {
     "name": "stdout",
     "output_type": "stream",
     "text": [
      "*\n",
      "**\n",
      "***\n",
      "****\n",
      "*****\n",
      "******\n",
      "*****\n",
      "****\n",
      "***\n",
      "**\n",
      "*\n"
     ]
    }
   ],
   "source": [
    "n = 6  \n",
    "\n",
    "\n",
    "for i in range(1, n+1):\n",
    "    print('*' * i)\n",
    "\n",
    "\n",
    "for i in range(n-1, 0, -1):\n",
    "    print('*' * i)"
   ]
  },
  {
   "cell_type": "code",
   "execution_count": 6,
   "metadata": {},
   "outputs": [
    {
     "name": "stdout",
     "output_type": "stream",
     "text": [
      "*\n",
      "**\n",
      "***\n",
      "****\n",
      "*****\n",
      "******\n",
      "*******\n",
      "********\n",
      "*********\n",
      "**********\n",
      "***********\n",
      "************\n",
      "*************\n",
      "**************\n",
      "***************\n",
      "**************\n",
      "*************\n",
      "************\n",
      "***********\n",
      "**********\n",
      "*********\n",
      "********\n",
      "*******\n",
      "******\n",
      "*****\n",
      "****\n",
      "***\n",
      "**\n",
      "*\n"
     ]
    }
   ],
   "source": [
    "\n",
    "n = int(input(\"Introduce un número de * maximos: \"))\n",
    "\n",
    "\n",
    "for i in range(1, n+1):\n",
    "    print('*' * i)\n",
    "\n",
    "\n",
    "for i in range(n-1, 0, -1):\n",
    "    print('*' * i)"
   ]
  },
  {
   "cell_type": "markdown",
   "metadata": {},
   "source": [
    "HACER UN CÓDIGO QUE ESCRIBA EL TRÍANGULO DE PASCAL HASTA LA QUINTA FILA"
   ]
  },
  {
   "cell_type": "code",
   "execution_count": 10,
   "metadata": {},
   "outputs": [
    {
     "name": "stdout",
     "output_type": "stream",
     "text": [
      "    1     \n",
      "   1 1    \n",
      "  1 2 1   \n",
      " 1 3 3 1  \n",
      "1 4 6 4 1 \n"
     ]
    }
   ],
   "source": [
    "n = 5  \n",
    "triangulo = []  \n",
    "\n",
    "\n",
    "for i in range(n):\n",
    "   \n",
    "    row = [1] * (i + 1)\n",
    "    \n",
    "  \n",
    "    for j in range(1, i):\n",
    "        row[j] = triangulo[i-1][j-1] + triangulo[i-1][j]\n",
    "    \n",
    "   \n",
    "    triangulo.append(row)\n",
    "\n",
    "\n",
    "for row in triangulo:\n",
    "    print(' '.join(map(str, row)).center(n * 2))"
   ]
  },
  {
   "cell_type": "code",
   "execution_count": 12,
   "metadata": {},
   "outputs": [
    {
     "name": "stdout",
     "output_type": "stream",
     "text": [
      "                   1                    \n",
      "                  1 1                   \n",
      "                 1 2 1                  \n",
      "                1 3 3 1                 \n",
      "               1 4 6 4 1                \n",
      "             1 5 10 10 5 1              \n",
      "            1 6 15 20 15 6 1            \n",
      "          1 7 21 35 35 21 7 1           \n",
      "         1 8 28 56 70 56 28 8 1         \n",
      "      1 9 36 84 126 126 84 36 9 1       \n",
      "  1 10 45 120 210 252 210 120 45 10 1   \n",
      "1 11 55 165 330 462 462 330 165 55 11 1 \n",
      "1 12 66 220 495 792 924 792 495 220 66 12 1\n",
      "1 13 78 286 715 1287 1716 1716 1287 715 286 78 13 1\n",
      "1 14 91 364 1001 2002 3003 3432 3003 2002 1001 364 91 14 1\n",
      "1 15 105 455 1365 3003 5005 6435 6435 5005 3003 1365 455 105 15 1\n",
      "1 16 120 560 1820 4368 8008 11440 12870 11440 8008 4368 1820 560 120 16 1\n",
      "1 17 136 680 2380 6188 12376 19448 24310 24310 19448 12376 6188 2380 680 136 17 1\n",
      "1 18 153 816 3060 8568 18564 31824 43758 48620 43758 31824 18564 8568 3060 816 153 18 1\n",
      "1 19 171 969 3876 11628 27132 50388 75582 92378 92378 75582 50388 27132 11628 3876 969 171 19 1\n"
     ]
    }
   ],
   "source": [
    "n = int(input(\"Introduce un número de filas del triangulo de pascal: \")) \n",
    "triangulo = []  \n",
    "\n",
    "\n",
    "for i in range(n):\n",
    "   \n",
    "    row = [1] * (i + 1)\n",
    "    \n",
    "  \n",
    "    for j in range(1, i):\n",
    "        row[j] = triangulo[i-1][j-1] + triangulo[i-1][j]\n",
    "    \n",
    "   \n",
    "    triangulo.append(row)\n",
    "\n",
    "\n",
    "for row in triangulo:\n",
    "    print(' '.join(map(str, row)).center(n * 2))"
   ]
  }
 ],
 "metadata": {
  "kernelspec": {
   "display_name": "Python 3",
   "language": "python",
   "name": "python3"
  },
  "language_info": {
   "codemirror_mode": {
    "name": "ipython",
    "version": 3
   },
   "file_extension": ".py",
   "mimetype": "text/x-python",
   "name": "python",
   "nbconvert_exporter": "python",
   "pygments_lexer": "ipython3",
   "version": "3.12.1"
  }
 },
 "nbformat": 4,
 "nbformat_minor": 2
}
