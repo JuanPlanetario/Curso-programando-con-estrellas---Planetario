{
 "cells": [
  {
   "cell_type": "code",
   "execution_count": 1,
   "metadata": {},
   "outputs": [
    {
     "name": "stdout",
     "output_type": "stream",
     "text": [
      "Es multiplo de 2\n"
     ]
    }
   ],
   "source": [
    "a = 4  #Defina la variable con el número que va a determinar si es múltiplo de 2\n",
    "b = 2  #Defina la variable que va a tener el residuo entre el número a y el número 2\n",
    "\n",
    "if a % 2 == 0  : #Complete según la primera condición\n",
    "  print(\"Es multiplo de 2\") #Use esta función para imprimir el primer mensaje\n",
    "else   : #Complete según la segunda condición\n",
    "  print(\"No es multiplo de 2\") #Use esta función para imprimir el segundo mensaje\n",
    "\n",
    "#Compile el código"
   ]
  },
  {
   "cell_type": "code",
   "execution_count": 2,
   "metadata": {},
   "outputs": [
    {
     "name": "stdout",
     "output_type": "stream",
     "text": [
      "1\n",
      "1\n",
      "2\n",
      "3\n",
      "5\n",
      "8\n",
      "13\n",
      "21\n",
      "34\n",
      "55\n",
      "89\n",
      "144\n",
      "233\n",
      "377\n",
      "610\n",
      "987\n",
      "1597\n",
      "2584\n",
      "4181\n",
      "6765\n"
     ]
    }
   ],
   "source": [
    "# 20 numero de la serie de fibonnaci\n",
    "\n",
    "fib1=1\n",
    "fib2=1\n",
    "print(fib1)\n",
    "print(fib2)\n",
    "for i in range(1,19):\n",
    "    siguiente = fib2 + fib1 \n",
    "    print(siguiente)\n",
    "    fib1=fib2\n",
    "    fib2=siguiente\n",
    "    \n",
    "\n"
   ]
  },
  {
   "cell_type": "code",
   "execution_count": null,
   "metadata": {},
   "outputs": [],
   "source": []
  }
 ],
 "metadata": {
  "kernelspec": {
   "display_name": "Python 3",
   "language": "python",
   "name": "python3"
  },
  "language_info": {
   "codemirror_mode": {
    "name": "ipython",
    "version": 3
   },
   "file_extension": ".py",
   "mimetype": "text/x-python",
   "name": "python",
   "nbconvert_exporter": "python",
   "pygments_lexer": "ipython3",
   "version": "3.12.1"
  }
 },
 "nbformat": 4,
 "nbformat_minor": 2
}
